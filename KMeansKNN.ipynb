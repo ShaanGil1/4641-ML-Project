{
 "cells": [
  {
   "cell_type": "code",
   "execution_count": 16,
   "metadata": {},
   "outputs": [],
   "source": [
    "import matplotlib.pyplot as plt\n",
    "#from kneed import KneeLocator\n",
    "from sklearn.datasets import make_blobs\n",
    "from sklearn.cluster import KMeans\n",
    "from sklearn.metrics import silhouette_score, silhouette_samples\n",
    "from sklearn.preprocessing import StandardScaler\n",
    "from pandas import DataFrame\n",
    "from kneed import KneeLocator\n"
   ]
  },
  {
   "cell_type": "code",
   "execution_count": 17,
   "metadata": {},
   "outputs": [
    {
     "name": "stdout",
     "output_type": "stream",
     "text": [
      "Dataset \"us-shareprices-daily\" on disk (0 days old).\n",
      "- Loading from disk ... Done!\n",
      "Index(['SimFinId', 'Open', 'Low', 'High', 'Close', 'Adj. Close', 'Dividend',\n",
      "       'Volume', 'Shares Outstanding'],\n",
      "      dtype='object')\n"
     ]
    }
   ],
   "source": [
    "import simfin as sf\n",
    "import pandas as pd\n",
    "import matplotlib as plt\n",
    "import numpy as np\n",
    "from matplotlib import pyplot as plt\n",
    "from sklearn.cluster import KMeans\n",
    "from sklearn.model_selection import train_test_split\n",
    "from sklearn.preprocessing import StandardScaler\n",
    "from simfin.names import *\n",
    "from sklearn.neighbors import KNeighborsClassifier\n",
    "from sklearn.metrics import classification_report, confusion_matrix\n",
    "\n",
    "def getData():\n",
    "    sf.set_api_key('free')\n",
    "\n",
    "    # Set the local directory where data-files are stored.\n",
    "    # The dir will be created if it does not already exist.\n",
    "    sf.set_data_dir('~/simfin_data/')\n",
    "\n",
    "    # Load daily share-prices for all companies in USA.\n",
    "    # The data is automatically downloaded if you don't have it already.\n",
    "    df_prices = sf.load_shareprices(market='us', variant='daily')\n",
    "\n",
    "    # Plot the closing share-prices for ticker MSFT.\n",
    "    msft_close_values_TEMP = df_prices.loc['MSFT']\n",
    "\n",
    "    print(msft_close_values_TEMP.columns)\n",
    "    \n",
    "    # Selects 100 random stocks \n",
    "    tickers = df_prices.reset_index()[TICKER].unique()\n",
    "    tickers = np.array(tickers)\n",
    "    np.random.seed(1)\n",
    "    \n",
    "    list_of_stocks = np.random.choice(tickers, size=100, replace=False)\n",
    "    \n",
    "    big_df = pd.DataFrame()\n",
    "    for stock in list_of_stocks:\n",
    "        temp_df = df_prices.loc[stock].tail(100)\n",
    "        temp_df = temp_df[[\"SimFinId\", \"Close\", \"Open\", \"High\", \"Low\"]]\n",
    "        big_df = pd.concat([big_df, temp_df])\n",
    "\n",
    "    ultimate_df = big_df\n",
    "\n",
    "    return ultimate_df\n",
    "\n",
    "\n",
    "def plottingExperiments(df_prices):\n",
    "    #PLOTTING\n",
    "    msft_close_values= df_prices.loc['MSFT']\n",
    "    msft_close_values = msft_close_values[[\"Close\", \"Open\", \"High\", \"Low\"]]\n",
    "    msft_close_values.plot(grid=True, figsize=(10, 5), title='MSFT Close')\n",
    "\n",
    "    aapl_close_values = df_prices.loc['AAPL', CLOSE].tail(100)\n",
    "    aapl_close_values.plot(grid=True, figsize=(10, 5), title='APPL Close')\n",
    "\n",
    "    print(type(msft_close_values))\n",
    "\n",
    "    #plt.scatter(x, y)\n",
    "\n",
    "if __name__ == '__main__':\n",
    "    data = getData()\n",
    "    #plottingExperiments()\n"
   ]
  },
  {
   "cell_type": "code",
   "execution_count": 18,
   "metadata": {},
   "outputs": [],
   "source": [
    "# Set up array for changed data to go into\n",
    "finishedData = []\n",
    "\n",
    "# Converts data to np array to make it easier to work with\n",
    "data = np.array(data)\n",
    "\n",
    "\n",
    "# Iterates through the number of stocks (change this number when increasing the number of stocks)\n",
    "for x in range(100):\n",
    "    # Temp array to work with\n",
    "    temp = []\n",
    "    \n",
    "    # Adds the number of entries per stock to temp array\n",
    "    # (Change this number if increasing/decrease the number of data points per stock)\n",
    "    for i in range(100):\n",
    "        temp.append(data[i + x*100])\n",
    "    \n",
    "    # Make into np array \n",
    "    temp = np.array(temp)\n",
    "    \n",
    "    # Take the mean of all the colemns\n",
    "    temp = np.mean(temp, axis=0)\n",
    "    \n",
    "    # Values to reduce number of features while also keeping the data\n",
    "    # These varibles hold avg(open) - avg(close)/avg(open) and avg(high) - avg(low)/avg(low)\n",
    "    # This will find the % change in the stocks rather than the value change\n",
    "    openCloseDiff = (temp[2] - temp[1]) / temp[1] \n",
    "    highLowDiff = (temp[3] - temp[4]) / temp[4]\n",
    "    \n",
    "    # Add these points to array that will use Kmeans\n",
    "    finishedData.append([openCloseDiff, highLowDiff])\n",
    "\n",
    "# Make into np.array and print for referance (if needed) also removed any nans\n",
    "finishedData = np.array(finishedData)\n",
    "finishedData = pd.DataFrame(finishedData)\n",
    "finishedData = finishedData.dropna(axis=0, how='any')\n",
    "finishedData = np.array(finishedData)\n",
    "#print(finishedData)"
   ]
  },
  {
   "cell_type": "code",
   "execution_count": 19,
   "metadata": {},
   "outputs": [
    {
     "data": {
      "image/png": "[encoded data removed]",
      "text/plain": [
       "<Figure size 432x288 with 1 Axes>"
      ]
     },
     "metadata": {
      "needs_background": "light"
     },
     "output_type": "display_data"
    },
    {
     "name": "stdout",
     "output_type": "stream",
     "text": [
      "Ideal Number of Clusters is 3\n"
     ]
    }
   ],
   "source": [
    "# Need to run the Elbow method to check the number of ideal clusters \n",
    "# Change this range if needed\n",
    "\n",
    "num_clusters = 20 # change this\n",
    "points = []\n",
    "for x in range(1, num_clusters):\n",
    "    kmeans = KMeans(n_clusters=x).fit(finishedData)\n",
    "    points.append(kmeans.inertia_)\n",
    "\n",
    "# Plots the data\n",
    "plt.plot(range(1, num_clusters), points)\n",
    "plt.xticks(range(1, 20))\n",
    "plt.title('Elbow Method')\n",
    "plt.xlabel('Number of clusters')\n",
    "plt.ylabel('Error')\n",
    "plt.show()\n",
    "\n",
    "# Uses KneeLocator to find the elbow on the graph and the number of cluster we should use\n",
    "x = KneeLocator(range(1, num_clusters), points, curve=\"convex\", direction=\"decreasing\")\n",
    "print(\"Ideal Number of Clusters is \" + str(x.elbow))"
   ]
  },
  {
   "cell_type": "code",
   "execution_count": 20,
   "metadata": {},
   "outputs": [
    {
     "data": {
      "text/plain": [
       "<matplotlib.collections.PathCollection at 0x21877642910>"
      ]
     },
     "execution_count": 20,
     "metadata": {},
     "output_type": "execute_result"
    },
    {
     "data": {
      "image/png": "[encoded data removed]",
      "text/plain": [
       "<Figure size 432x288 with 1 Axes>"
      ]
     },
     "metadata": {
      "needs_background": "light"
     },
     "output_type": "display_data"
    }
   ],
   "source": [
    "# Runs Kmeans on the data with ideal number of clusters\n",
    "kmeans = KMeans(n_clusters=x.elbow).fit(finishedData)\n",
    "\n",
    "# Finds, converts to np.array and prints centriods \n",
    "centroids = kmeans.cluster_centers_\n",
    "centroids = np.array(centroids)\n",
    "#print(centroids)\n",
    "\n",
    "# Places the points on scatter plot, blue points are each stock and orange are the centers\n",
    "plt.scatter(finishedData[:,0], finishedData[:,1])\n",
    "plt.scatter(centroids[:,0], centroids[:,1])\n",
    "    "
   ]
  },
  {
   "cell_type": "code",
   "execution_count": 25,
   "metadata": {},
   "outputs": [
    {
     "name": "stdout",
     "output_type": "stream",
     "text": [
      "[[48  0  0 ...  0  0  0]\n",
      " [ 0 33  1 ...  0  0  0]\n",
      " [ 1 12  3 ...  0  0  9]\n",
      " ...\n",
      " [ 0  0  0 ... 41  0  0]\n",
      " [ 0  0  0 ...  0  5  0]\n",
      " [ 0  0  2 ...  0  0 11]]\n",
      "              precision    recall  f1-score   support\n",
      "\n",
      "     42704.0       0.94      1.00      0.97        48\n",
      "     56422.0       0.39      0.65      0.49        51\n",
      "     60906.0       0.11      0.05      0.07        57\n",
      "     65470.0       0.42      0.49      0.45        45\n",
      "     68960.0       0.36      0.18      0.24        45\n",
      "     70746.0       0.06      0.02      0.03        57\n",
      "     73420.0       0.24      0.27      0.25        52\n",
      "     75639.0       0.29      0.37      0.33        51\n",
      "     86600.0       0.52      0.64      0.58        50\n",
      "    103135.0       1.00      1.00      1.00        37\n",
      "    108420.0       0.35      0.55      0.43        40\n",
      "    119446.0       1.00      1.00      1.00        41\n",
      "    122864.0       0.20      0.19      0.19        54\n",
      "    125293.0       0.67      1.00      0.80        47\n",
      "    126240.0       0.73      0.92      0.82        51\n",
      "    135823.0       0.26      0.37      0.30        49\n",
      "    138054.0       0.27      0.28      0.28        57\n",
      "    149288.0       0.38      0.17      0.23        53\n",
      "    160053.0       0.55      0.51      0.53        59\n",
      "    173396.0       0.21      0.33      0.26        46\n",
      "    175788.0       0.13      0.19      0.15        47\n",
      "    180279.0       0.51      0.62      0.56        45\n",
      "    183964.0       0.25      0.07      0.11        57\n",
      "    201913.0       0.36      0.09      0.15        53\n",
      "    233349.0       0.35      0.62      0.45        47\n",
      "    234391.0       0.76      0.80      0.78        55\n",
      "    239618.0       0.33      0.24      0.28        55\n",
      "    240259.0       0.48      0.29      0.36        48\n",
      "    245138.0       0.57      0.76      0.65        50\n",
      "    247970.0       0.15      0.33      0.21        40\n",
      "    254348.0       0.22      0.57      0.32        42\n",
      "    256569.0       0.43      0.35      0.38        55\n",
      "    261673.0       0.96      0.90      0.93        58\n",
      "    328011.0       0.35      0.32      0.33        53\n",
      "    329205.0       1.00      1.00      1.00        50\n",
      "    331831.0       0.53      0.33      0.40        52\n",
      "    341472.0       0.26      0.64      0.37        36\n",
      "    348449.0       0.28      0.37      0.32        46\n",
      "    354347.0       0.52      0.33      0.41        48\n",
      "    358146.0       0.32      0.37      0.34        49\n",
      "    359889.0       0.13      0.09      0.11        53\n",
      "    360213.0       0.54      0.24      0.33        55\n",
      "    367644.0       0.86      0.65      0.74        49\n",
      "    368599.0       0.43      0.47      0.45        55\n",
      "    369401.0       0.21      0.21      0.21        43\n",
      "    370817.0       0.56      0.85      0.68        48\n",
      "    376164.0       0.31      0.38      0.34        47\n",
      "    378107.0       0.09      0.12      0.10        41\n",
      "    378113.0       0.53      0.56      0.55        55\n",
      "    378138.0       1.00      1.00      1.00        52\n",
      "    378173.0       0.24      0.17      0.20        40\n",
      "    378183.0       0.46      0.12      0.19        49\n",
      "    378239.0       0.23      0.20      0.22        49\n",
      "    378241.0       0.44      0.61      0.51        46\n",
      "    447283.0       0.34      0.64      0.45        50\n",
      "    448357.0       0.79      0.88      0.83        59\n",
      "    448662.0       0.48      0.98      0.65        45\n",
      "    449113.0       0.71      0.62      0.66        47\n",
      "    449230.0       0.91      1.00      0.96        43\n",
      "    491354.0       0.43      0.43      0.43        60\n",
      "    492790.0       0.49      0.79      0.60        48\n",
      "    511242.0       0.44      0.46      0.45        59\n",
      "    512245.0       0.51      0.55      0.53        53\n",
      "    527413.0       0.55      0.75      0.63        52\n",
      "    544815.0       0.32      0.14      0.20        49\n",
      "    625334.0       0.64      0.70      0.67        56\n",
      "    627772.0       0.41      0.44      0.42        54\n",
      "    638112.0       0.57      0.18      0.27        45\n",
      "    638114.0       0.19      0.18      0.19        44\n",
      "    646927.0       0.18      0.15      0.16        55\n",
      "    651267.0       0.27      0.25      0.26        51\n",
      "    651626.0       0.64      0.76      0.70        51\n",
      "    679470.0       0.78      0.57      0.66        49\n",
      "    682157.0       0.46      0.59      0.52        49\n",
      "    687929.0       0.47      0.82      0.60        57\n",
      "    707350.0       0.57      0.48      0.52        50\n",
      "    734346.0       0.78      0.57      0.66        54\n",
      "    742104.0       0.45      0.25      0.32        57\n",
      "    743187.0       0.25      0.47      0.33        45\n",
      "    749032.0       0.26      0.18      0.21        55\n",
      "    770173.0       0.22      0.10      0.14        50\n",
      "    778777.0       0.23      0.20      0.21        45\n",
      "    782146.0       0.27      0.11      0.16        55\n",
      "    795983.0       0.13      0.08      0.10        52\n",
      "    809892.0       0.25      0.29      0.27        45\n",
      "    815574.0       0.84      0.62      0.71        52\n",
      "    826868.0       0.54      0.54      0.54        57\n",
      "    895821.0       0.24      0.18      0.21        49\n",
      "    897411.0       0.77      0.98      0.86        57\n",
      "    899362.0       0.47      0.17      0.25        52\n",
      "    909826.0       0.06      0.02      0.03        46\n",
      "    910562.0       0.27      0.11      0.16        53\n",
      "    917766.0       0.31      0.11      0.16        47\n",
      "    941302.0       0.84      0.95      0.89        40\n",
      "    949493.0       0.25      0.29      0.27        49\n",
      "    963028.0       0.68      0.48      0.56        52\n",
      "    978926.0       0.23      0.18      0.20        39\n",
      "    979788.0       0.71      0.80      0.75        51\n",
      "    985520.0       0.19      0.09      0.12        56\n",
      "   1050283.0       0.18      0.22      0.20        51\n",
      "\n",
      "    accuracy                           0.45      4993\n",
      "   macro avg       0.44      0.45      0.43      4993\n",
      "weighted avg       0.44      0.45      0.43      4993\n",
      "\n"
     ]
    }
   ],
   "source": [
    "data = pd.DataFrame(data)\n",
    "data = data.dropna(axis=0, how='any')\n",
    "data = np.array(data)\n",
    "# Gets columns Open, Close, Low and High\n",
    "X = data[:,1:5]\n",
    "# Gets the number of the stock \n",
    "y = data[:,0]\n",
    "# Splits up the data, can modify the size and random state to give different test and training data\n",
    "X_train, X_test, y_train, y_test = train_test_split(X, y, test_size=.5, random_state=2)\n",
    "\n",
    "# Used to scale the data (uneeded)\n",
    "\"\"\"\n",
    "scaler = StandardScaler()\n",
    "scaler.fit(X_train)\n",
    "\n",
    "X_train = scaler.transform(X_train)\n",
    "X_test = scaler.transform(X_test)\n",
    "\"\"\"\n",
    "\n",
    "# Runs KNN\n",
    "y_pred = KNeighborsClassifier(n_neighbors=12).fit(X_train, y_train).predict(X_test)\n",
    "\n",
    "# Displays results\n",
    "print(confusion_matrix(y_test, y_pred))\n",
    "print(classification_report(y_test, y_pred))\n",
    "\n",
    "\n"
   ]
  },
  {
   "cell_type": "code",
   "execution_count": 23,
   "metadata": {},
   "outputs": [
    {
     "data": {
      "text/plain": [
       "Text(0, 0.5, 'Mean Error')"
      ]
     },
     "execution_count": 23,
     "metadata": {},
     "output_type": "execute_result"
    },
    {
     "data": {
      "image/png": "[encoded data removed]",
      "text/plain": [
       "<Figure size 1296x648 with 1 Axes>"
      ]
     },
     "metadata": {
      "needs_background": "light"
     },
     "output_type": "display_data"
    }
   ],
   "source": [
    "# Plots the Error\n",
    "error = []\n",
    "\n",
    "for i in range(1, 40):\n",
    "    knn = KNeighborsClassifier(n_neighbors=i)\n",
    "    knn.fit(X_train, y_train)\n",
    "    pred_i = knn.predict(X_test)\n",
    "    error.append(np.mean(pred_i != y_test))\n",
    "\n",
    "plt.figure(figsize=(18, 9))\n",
    "plt.plot(range(1, 40), error, color='black', linestyle='solid', marker='.',\n",
    "         markerfacecolor='blue', markersize=10)\n",
    "plt.title('Error Rate K Value')\n",
    "plt.xlabel('K Value')\n",
    "plt.ylabel('Mean Error')"
   ]
  },
  {
   "cell_type": "code",
   "execution_count": null,
   "metadata": {},
   "outputs": [],
   "source": []
  },
  {
   "cell_type": "code",
   "execution_count": null,
   "metadata": {},
   "outputs": [],
   "source": []
  }
 ],
 "metadata": {
  "kernelspec": {
   "display_name": "Python 3",
   "language": "python",
   "name": "python3"
  },
  "language_info": {
   "codemirror_mode": {
    "name": "ipython",
    "version": 3
   },
   "file_extension": ".py",
   "mimetype": "text/x-python",
   "name": "python",
   "nbconvert_exporter": "python",
   "pygments_lexer": "ipython3",
   "version": "3.8.3"
  }
 },
 "nbformat": 4,
 "nbformat_minor": 4
}
