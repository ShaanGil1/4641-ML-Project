{
  "nbformat": 4,
  "nbformat_minor": 0,
  "metadata": {
    "colab": {
      "name": "return_prediction.ipynb",
      "provenance": [],
      "collapsed_sections": []
    },
    "kernelspec": {
      "display_name": "Python 3",
      "language": "python",
      "name": "python3"
    },
    "language_info": {
      "codemirror_mode": {
        "name": "ipython",
        "version": 3
      },
      "file_extension": ".py",
      "mimetype": "text/x-python",
      "name": "python",
      "nbconvert_exporter": "python",
      "pygments_lexer": "ipython3",
      "version": "3.7.4"
    }
  },
  "cells": [
    {
      "cell_type": "code",
      "metadata": {
        "colab": {
          "background_save": true
        },
        "id": "kzD5Q-fMMZS-",
        "outputId": "cad3aa7c-1040-4eab-f154-c37fbae831da"
      },
      "source": [
        "!pip install simfin"
      ],
      "execution_count": null,
      "outputs": [
        {
          "output_type": "stream",
          "text": [
            "Requirement already satisfied: simfin in /usr/local/lib/python3.6/dist-packages (0.8.1)\n",
            "Requirement already satisfied: requests in /usr/local/lib/python3.6/dist-packages (from simfin) (2.23.0)\n",
            "Requirement already satisfied: numpy in /usr/local/lib/python3.6/dist-packages (from simfin) (1.18.5)\n",
            "Requirement already satisfied: pandas in /usr/local/lib/python3.6/dist-packages (from simfin) (1.1.4)\n",
            "Requirement already satisfied: urllib3!=1.25.0,!=1.25.1,<1.26,>=1.21.1 in /usr/local/lib/python3.6/dist-packages (from requests->simfin) (1.24.3)\n",
            "Requirement already satisfied: idna<3,>=2.5 in /usr/local/lib/python3.6/dist-packages (from requests->simfin) (2.10)\n",
            "Requirement already satisfied: chardet<4,>=3.0.2 in /usr/local/lib/python3.6/dist-packages (from requests->simfin) (3.0.4)\n",
            "Requirement already satisfied: certifi>=2017.4.17 in /usr/local/lib/python3.6/dist-packages (from requests->simfin) (2020.11.8)\n",
            "Requirement already satisfied: python-dateutil>=2.7.3 in /usr/local/lib/python3.6/dist-packages (from pandas->simfin) (2.8.1)\n",
            "Requirement already satisfied: pytz>=2017.2 in /usr/local/lib/python3.6/dist-packages (from pandas->simfin) (2018.9)\n",
            "Requirement already satisfied: six>=1.5 in /usr/local/lib/python3.6/dist-packages (from python-dateutil>=2.7.3->pandas->simfin) (1.15.0)\n"
          ],
          "name": "stdout"
        }
      ]
    },
    {
      "cell_type": "markdown",
      "metadata": {
        "id": "hZ0aamBRMZTD"
      },
      "source": [
        "## Data Import and Cleaning"
      ]
    },
    {
      "cell_type": "code",
      "metadata": {
        "colab": {
          "background_save": true
        },
        "id": "SqjNHyetMZTD"
      },
      "source": [
        "# Imports\n",
        "import simfin as sf\n",
        "import pandas as pd\n",
        "import numpy as np\n",
        "\n",
        "from matplotlib import pyplot as plt\n",
        "\n",
        "from sklearn.model_selection import train_test_split\n",
        "from sklearn.svm import SVR\n",
        "\n",
        "from simfin.names import *"
      ],
      "execution_count": null,
      "outputs": []
    },
    {
      "cell_type": "code",
      "metadata": {
        "colab": {
          "background_save": true
        },
        "id": "WzUDcb56MZTD"
      },
      "source": [
        "# API Setup\n",
        "sf.set_api_key('free')\n",
        "\n",
        "# Set the local directory where data-files are stored.\n",
        "# The dir will be created if it does not already exist.\n",
        "sf.set_data_dir('~/simfin_data/')"
      ],
      "execution_count": null,
      "outputs": []
    },
    {
      "cell_type": "code",
      "metadata": {
        "colab": {
          "background_save": true
        },
        "id": "Gy80hQOBMZTE"
      },
      "source": [
        "# StockHub creation from API\n",
        "market = 'us'\n",
        "offset = pd.DateOffset(days=90)\n",
        "\n",
        "# StockHub object with useful features and functions\n",
        "hub = sf.StockHub(market='us',offset=offset, refresh_days=30, refresh_days_shareprices=10)"
      ],
      "execution_count": null,
      "outputs": []
    },
    {
      "cell_type": "code",
      "metadata": {
        "colab": {
          "background_save": true,
          "base_uri": "https://localhost:8080/"
        },
        "id": "E4TMUW5lMZTF",
        "outputId": "3921174b-8a63-4064-a959-1ea7807c6d6a"
      },
      "source": [
        "# Calculating various signals using the StockHub object\n",
        "# Putting them in DataFrame for usage\n",
        "\n",
        "# Creates daily data points for same dates as share prices\n",
        "signal_variant = 'daily'\n",
        "\n",
        "# Financial signals\n",
        "df_fin_sig = hub.fin_signals(variant=signal_variant)\n",
        "# Growth signals\n",
        "df_growth_sig = hub.growth_signals(variant=signal_variant)\n",
        "# Valuation signals\n",
        "df_val_sig = hub.val_signals(variant=signal_variant)\n",
        "\n",
        "# Concatenate data frames\n",
        "dfs = [df_fin_sig, df_growth_sig, df_val_sig]\n",
        "df_sig = pd.concat(dfs, axis=1)"
      ],
      "execution_count": null,
      "outputs": [
        {
          "output_type": "stream",
          "text": [
            "Dataset \"us-income-ttm\" on disk (0 days old).\n",
            "- Loading from disk ... Done!\n",
            "Dataset \"us-balance-ttm\" on disk (0 days old).\n",
            "- Loading from disk ... Done!\n",
            "Dataset \"us-cashflow-ttm\" on disk (0 days old).\n",
            "- Loading from disk ... Done!\n",
            "Dataset \"us-shareprices-daily\" on disk (0 days old).\n",
            "- Loading from disk ... Done!\n",
            "Cache-file 'fin_signals-e9b3aeb2.pickle' on disk (0 days old).\n",
            "- Loading from disk ... Done!\n",
            "Dataset \"us-income-quarterly\" on disk (0 days old).\n",
            "- Loading from disk ... Done!\n",
            "Dataset \"us-balance-quarterly\" on disk (0 days old).\n",
            "- Loading from disk ... Done!\n",
            "Dataset \"us-cashflow-quarterly\" on disk (0 days old).\n",
            "- Loading from disk ... Done!\n",
            "Cache-file 'growth_signals-e9b3aeb2.pickle' on disk (0 days old).\n",
            "- Loading from disk ... Done!\n",
            "Cache-file 'val_signals-9f3839e5.pickle' on disk (0 days old).\n",
            "- Loading from disk ... Done!\n"
          ],
          "name": "stdout"
        }
      ]
    },
    {
      "cell_type": "code",
      "metadata": {
        "colab": {
          "background_save": true
        },
        "id": "3__4PUcpMZTG",
        "outputId": "7dc55366-e605-4f22-f830-0d1dc265440a"
      },
      "source": [
        "\"\"\"\n",
        "# Removing all NaN rows\n",
        "print(df_sig.shape)\n",
        "df_sig = df_sig.dropna(how='all')\n",
        "print(df_sig.shape)\n",
        "\"\"\""
      ],
      "execution_count": null,
      "outputs": [
        {
          "output_type": "execute_result",
          "data": {
            "application/vnd.google.colaboratory.intrinsic+json": {
              "type": "string"
            },
            "text/plain": [
              "\"\\n# Removing all NaN rows\\nprint(df_sig.shape)\\ndf_sig = df_sig.dropna(how='all')\\nprint(df_sig.shape)\\n\""
            ]
          },
          "metadata": {
            "tags": []
          },
          "execution_count": 0
        }
      ]
    },
    {
      "cell_type": "code",
      "metadata": {
        "colab": {
          "background_save": true
        },
        "id": "cK-yVxAKMZTH",
        "outputId": "bbaad456-424a-49e6-c796-4f1621ccad7c"
      },
      "source": [
        "# Looking at the resulting DataFrame of signals\n",
        "df_sig.head()"
      ],
      "execution_count": null,
      "outputs": [
        {
          "output_type": "execute_result",
          "data": {
            "text/html": [
              "<div>\n",
              "<style scoped>\n",
              "    .dataframe tbody tr th:only-of-type {\n",
              "        vertical-align: middle;\n",
              "    }\n",
              "\n",
              "    .dataframe tbody tr th {\n",
              "        vertical-align: top;\n",
              "    }\n",
              "\n",
              "    .dataframe thead th {\n",
              "        text-align: right;\n",
              "    }\n",
              "</style>\n",
              "<table border=\"1\" class=\"dataframe\">\n",
              "  <thead>\n",
              "    <tr style=\"text-align: right;\">\n",
              "      <th></th>\n",
              "      <th></th>\n",
              "      <th>(Dividends + Share Buyback) / FCF</th>\n",
              "      <th>Asset Turnover</th>\n",
              "      <th>CapEx / (Depr + Amor)</th>\n",
              "      <th>Current Ratio</th>\n",
              "      <th>Debt Ratio</th>\n",
              "      <th>Dividends / FCF</th>\n",
              "      <th>Gross Profit Margin</th>\n",
              "      <th>Interest Coverage</th>\n",
              "      <th>Inventory Turnover</th>\n",
              "      <th>Log Revenue</th>\n",
              "      <th>Net Acquisitions / Total Assets</th>\n",
              "      <th>Net Profit Margin</th>\n",
              "      <th>Quick Ratio</th>\n",
              "      <th>R&amp;D / Gross Profit</th>\n",
              "      <th>R&amp;D / Revenue</th>\n",
              "      <th>Return on Assets</th>\n",
              "      <th>Return on Equity</th>\n",
              "      <th>Return on Research Capital</th>\n",
              "      <th>Share Buyback / FCF</th>\n",
              "      <th>Assets Growth</th>\n",
              "      <th>Assets Growth QOQ</th>\n",
              "      <th>Assets Growth YOY</th>\n",
              "      <th>Earnings Growth</th>\n",
              "      <th>Earnings Growth QOQ</th>\n",
              "      <th>Earnings Growth YOY</th>\n",
              "      <th>FCF Growth</th>\n",
              "      <th>FCF Growth QOQ</th>\n",
              "      <th>FCF Growth YOY</th>\n",
              "      <th>Sales Growth</th>\n",
              "      <th>Sales Growth QOQ</th>\n",
              "      <th>Sales Growth YOY</th>\n",
              "      <th>Dividend Yield</th>\n",
              "      <th>Earnings Yield</th>\n",
              "      <th>FCF Yield</th>\n",
              "      <th>Market-Cap</th>\n",
              "      <th>P/Cash</th>\n",
              "      <th>P/E</th>\n",
              "      <th>P/FCF</th>\n",
              "      <th>P/NCAV</th>\n",
              "      <th>P/NetNet</th>\n",
              "      <th>P/Sales</th>\n",
              "      <th>Price to Book Value</th>\n",
              "    </tr>\n",
              "    <tr>\n",
              "      <th>Ticker</th>\n",
              "      <th>Date</th>\n",
              "      <th></th>\n",
              "      <th></th>\n",
              "      <th></th>\n",
              "      <th></th>\n",
              "      <th></th>\n",
              "      <th></th>\n",
              "      <th></th>\n",
              "      <th></th>\n",
              "      <th></th>\n",
              "      <th></th>\n",
              "      <th></th>\n",
              "      <th></th>\n",
              "      <th></th>\n",
              "      <th></th>\n",
              "      <th></th>\n",
              "      <th></th>\n",
              "      <th></th>\n",
              "      <th></th>\n",
              "      <th></th>\n",
              "      <th></th>\n",
              "      <th></th>\n",
              "      <th></th>\n",
              "      <th></th>\n",
              "      <th></th>\n",
              "      <th></th>\n",
              "      <th></th>\n",
              "      <th></th>\n",
              "      <th></th>\n",
              "      <th></th>\n",
              "      <th></th>\n",
              "      <th></th>\n",
              "      <th></th>\n",
              "      <th></th>\n",
              "      <th></th>\n",
              "      <th></th>\n",
              "      <th></th>\n",
              "      <th></th>\n",
              "      <th></th>\n",
              "      <th></th>\n",
              "      <th></th>\n",
              "      <th></th>\n",
              "      <th></th>\n",
              "    </tr>\n",
              "  </thead>\n",
              "  <tbody>\n",
              "    <tr>\n",
              "      <th rowspan=\"5\" valign=\"top\">A</th>\n",
              "      <th>2007-01-03</th>\n",
              "      <td>NaN</td>\n",
              "      <td>NaN</td>\n",
              "      <td>NaN</td>\n",
              "      <td>NaN</td>\n",
              "      <td>NaN</td>\n",
              "      <td>NaN</td>\n",
              "      <td>NaN</td>\n",
              "      <td>NaN</td>\n",
              "      <td>NaN</td>\n",
              "      <td>NaN</td>\n",
              "      <td>NaN</td>\n",
              "      <td>NaN</td>\n",
              "      <td>NaN</td>\n",
              "      <td>NaN</td>\n",
              "      <td>NaN</td>\n",
              "      <td>NaN</td>\n",
              "      <td>NaN</td>\n",
              "      <td>NaN</td>\n",
              "      <td>NaN</td>\n",
              "      <td>NaN</td>\n",
              "      <td>NaN</td>\n",
              "      <td>NaN</td>\n",
              "      <td>NaN</td>\n",
              "      <td>NaN</td>\n",
              "      <td>NaN</td>\n",
              "      <td>NaN</td>\n",
              "      <td>NaN</td>\n",
              "      <td>NaN</td>\n",
              "      <td>NaN</td>\n",
              "      <td>NaN</td>\n",
              "      <td>NaN</td>\n",
              "      <td>NaN</td>\n",
              "      <td>NaN</td>\n",
              "      <td>NaN</td>\n",
              "      <td>NaN</td>\n",
              "      <td>NaN</td>\n",
              "      <td>NaN</td>\n",
              "      <td>NaN</td>\n",
              "      <td>NaN</td>\n",
              "      <td>NaN</td>\n",
              "      <td>NaN</td>\n",
              "      <td>NaN</td>\n",
              "    </tr>\n",
              "    <tr>\n",
              "      <th>2007-01-04</th>\n",
              "      <td>NaN</td>\n",
              "      <td>NaN</td>\n",
              "      <td>NaN</td>\n",
              "      <td>NaN</td>\n",
              "      <td>NaN</td>\n",
              "      <td>NaN</td>\n",
              "      <td>NaN</td>\n",
              "      <td>NaN</td>\n",
              "      <td>NaN</td>\n",
              "      <td>NaN</td>\n",
              "      <td>NaN</td>\n",
              "      <td>NaN</td>\n",
              "      <td>NaN</td>\n",
              "      <td>NaN</td>\n",
              "      <td>NaN</td>\n",
              "      <td>NaN</td>\n",
              "      <td>NaN</td>\n",
              "      <td>NaN</td>\n",
              "      <td>NaN</td>\n",
              "      <td>NaN</td>\n",
              "      <td>NaN</td>\n",
              "      <td>NaN</td>\n",
              "      <td>NaN</td>\n",
              "      <td>NaN</td>\n",
              "      <td>NaN</td>\n",
              "      <td>NaN</td>\n",
              "      <td>NaN</td>\n",
              "      <td>NaN</td>\n",
              "      <td>NaN</td>\n",
              "      <td>NaN</td>\n",
              "      <td>NaN</td>\n",
              "      <td>NaN</td>\n",
              "      <td>NaN</td>\n",
              "      <td>NaN</td>\n",
              "      <td>NaN</td>\n",
              "      <td>NaN</td>\n",
              "      <td>NaN</td>\n",
              "      <td>NaN</td>\n",
              "      <td>NaN</td>\n",
              "      <td>NaN</td>\n",
              "      <td>NaN</td>\n",
              "      <td>NaN</td>\n",
              "    </tr>\n",
              "    <tr>\n",
              "      <th>2007-01-05</th>\n",
              "      <td>NaN</td>\n",
              "      <td>NaN</td>\n",
              "      <td>NaN</td>\n",
              "      <td>NaN</td>\n",
              "      <td>NaN</td>\n",
              "      <td>NaN</td>\n",
              "      <td>NaN</td>\n",
              "      <td>NaN</td>\n",
              "      <td>NaN</td>\n",
              "      <td>NaN</td>\n",
              "      <td>NaN</td>\n",
              "      <td>NaN</td>\n",
              "      <td>NaN</td>\n",
              "      <td>NaN</td>\n",
              "      <td>NaN</td>\n",
              "      <td>NaN</td>\n",
              "      <td>NaN</td>\n",
              "      <td>NaN</td>\n",
              "      <td>NaN</td>\n",
              "      <td>NaN</td>\n",
              "      <td>NaN</td>\n",
              "      <td>NaN</td>\n",
              "      <td>NaN</td>\n",
              "      <td>NaN</td>\n",
              "      <td>NaN</td>\n",
              "      <td>NaN</td>\n",
              "      <td>NaN</td>\n",
              "      <td>NaN</td>\n",
              "      <td>NaN</td>\n",
              "      <td>NaN</td>\n",
              "      <td>NaN</td>\n",
              "      <td>NaN</td>\n",
              "      <td>NaN</td>\n",
              "      <td>NaN</td>\n",
              "      <td>NaN</td>\n",
              "      <td>NaN</td>\n",
              "      <td>NaN</td>\n",
              "      <td>NaN</td>\n",
              "      <td>NaN</td>\n",
              "      <td>NaN</td>\n",
              "      <td>NaN</td>\n",
              "      <td>NaN</td>\n",
              "    </tr>\n",
              "    <tr>\n",
              "      <th>2007-01-08</th>\n",
              "      <td>NaN</td>\n",
              "      <td>NaN</td>\n",
              "      <td>NaN</td>\n",
              "      <td>NaN</td>\n",
              "      <td>NaN</td>\n",
              "      <td>NaN</td>\n",
              "      <td>NaN</td>\n",
              "      <td>NaN</td>\n",
              "      <td>NaN</td>\n",
              "      <td>NaN</td>\n",
              "      <td>NaN</td>\n",
              "      <td>NaN</td>\n",
              "      <td>NaN</td>\n",
              "      <td>NaN</td>\n",
              "      <td>NaN</td>\n",
              "      <td>NaN</td>\n",
              "      <td>NaN</td>\n",
              "      <td>NaN</td>\n",
              "      <td>NaN</td>\n",
              "      <td>NaN</td>\n",
              "      <td>NaN</td>\n",
              "      <td>NaN</td>\n",
              "      <td>NaN</td>\n",
              "      <td>NaN</td>\n",
              "      <td>NaN</td>\n",
              "      <td>NaN</td>\n",
              "      <td>NaN</td>\n",
              "      <td>NaN</td>\n",
              "      <td>NaN</td>\n",
              "      <td>NaN</td>\n",
              "      <td>NaN</td>\n",
              "      <td>NaN</td>\n",
              "      <td>NaN</td>\n",
              "      <td>NaN</td>\n",
              "      <td>NaN</td>\n",
              "      <td>NaN</td>\n",
              "      <td>NaN</td>\n",
              "      <td>NaN</td>\n",
              "      <td>NaN</td>\n",
              "      <td>NaN</td>\n",
              "      <td>NaN</td>\n",
              "      <td>NaN</td>\n",
              "    </tr>\n",
              "    <tr>\n",
              "      <th>2007-01-09</th>\n",
              "      <td>NaN</td>\n",
              "      <td>NaN</td>\n",
              "      <td>NaN</td>\n",
              "      <td>NaN</td>\n",
              "      <td>NaN</td>\n",
              "      <td>NaN</td>\n",
              "      <td>NaN</td>\n",
              "      <td>NaN</td>\n",
              "      <td>NaN</td>\n",
              "      <td>NaN</td>\n",
              "      <td>NaN</td>\n",
              "      <td>NaN</td>\n",
              "      <td>NaN</td>\n",
              "      <td>NaN</td>\n",
              "      <td>NaN</td>\n",
              "      <td>NaN</td>\n",
              "      <td>NaN</td>\n",
              "      <td>NaN</td>\n",
              "      <td>NaN</td>\n",
              "      <td>NaN</td>\n",
              "      <td>NaN</td>\n",
              "      <td>NaN</td>\n",
              "      <td>NaN</td>\n",
              "      <td>NaN</td>\n",
              "      <td>NaN</td>\n",
              "      <td>NaN</td>\n",
              "      <td>NaN</td>\n",
              "      <td>NaN</td>\n",
              "      <td>NaN</td>\n",
              "      <td>NaN</td>\n",
              "      <td>NaN</td>\n",
              "      <td>NaN</td>\n",
              "      <td>NaN</td>\n",
              "      <td>NaN</td>\n",
              "      <td>NaN</td>\n",
              "      <td>NaN</td>\n",
              "      <td>NaN</td>\n",
              "      <td>NaN</td>\n",
              "      <td>NaN</td>\n",
              "      <td>NaN</td>\n",
              "      <td>NaN</td>\n",
              "      <td>NaN</td>\n",
              "    </tr>\n",
              "  </tbody>\n",
              "</table>\n",
              "</div>"
            ],
            "text/plain": [
              "                   (Dividends + Share Buyback) / FCF  ...  Price to Book Value\n",
              "Ticker Date                                           ...                     \n",
              "A      2007-01-03                                NaN  ...                  NaN\n",
              "       2007-01-04                                NaN  ...                  NaN\n",
              "       2007-01-05                                NaN  ...                  NaN\n",
              "       2007-01-08                                NaN  ...                  NaN\n",
              "       2007-01-09                                NaN  ...                  NaN\n",
              "\n",
              "[5 rows x 42 columns]"
            ]
          },
          "metadata": {
            "tags": []
          },
          "execution_count": 0
        }
      ]
    },
    {
      "cell_type": "code",
      "metadata": {
        "colab": {
          "background_save": true
        },
        "id": "tEtDBQ8zMZTJ",
        "outputId": "f8166baa-cec2-42d5-97b7-8517f35129c9"
      },
      "source": [
        "\"\"\"\n",
        "# Lots of data is missing/NaN so want to clean it\n",
        "col_before = df_sig.columns\n",
        "print(df_sig.shape)\n",
        "\n",
        "# Removing data that isn't at least half filled in\n",
        "threshold = 0.9*len(df_sig.dropna(how='all'))\n",
        "df_sig_new = df_sig.dropna(axis='columns', thresh=threshold)\n",
        "\n",
        "col_after = df_sig_new.columns\n",
        "\n",
        "print(df_sig_new.shape)\n",
        "\"\"\""
      ],
      "execution_count": null,
      "outputs": [
        {
          "output_type": "execute_result",
          "data": {
            "application/vnd.google.colaboratory.intrinsic+json": {
              "type": "string"
            },
            "text/plain": [
              "\"\\n# Lots of data is missing/NaN so want to clean it\\ncol_before = df_sig.columns\\nprint(df_sig.shape)\\n\\n# Removing data that isn't at least half filled in\\nthreshold = 0.9*len(df_sig.dropna(how='all'))\\ndf_sig_new = df_sig.dropna(axis='columns', thresh=threshold)\\n\\ncol_after = df_sig_new.columns\\n\\nprint(df_sig_new.shape)\\n\""
            ]
          },
          "metadata": {
            "tags": []
          },
          "execution_count": 0
        }
      ]
    },
    {
      "cell_type": "code",
      "metadata": {
        "colab": {
          "background_save": true
        },
        "id": "Us9mBm1EMZTJ",
        "outputId": "f27a60f4-c8b1-45d9-e43e-dfdc40714165"
      },
      "source": [
        "\"\"\"\n",
        "# Removed columns are:\n",
        "print(col_before.difference(col_after))\n",
        "\"\"\""
      ],
      "execution_count": null,
      "outputs": [
        {
          "output_type": "execute_result",
          "data": {
            "application/vnd.google.colaboratory.intrinsic+json": {
              "type": "string"
            },
            "text/plain": [
              "'\\n# Removed columns are:\\nprint(col_before.difference(col_after))\\n'"
            ]
          },
          "metadata": {
            "tags": []
          },
          "execution_count": 0
        }
      ]
    },
    {
      "cell_type": "code",
      "metadata": {
        "colab": {
          "background_save": true
        },
        "id": "NHUckOKkMZTK",
        "outputId": "d9c873d3-f36b-49b6-901b-3e64475c2a24"
      },
      "source": [
        "# Calculating 1-3 year returns from the given data\n",
        "df_returns = hub.mean_log_returns(name=\"Total Return 1-3 Years\", \n",
        "                                  future=True, annualized=True, \n",
        "                                  min_years=1, max_years=3)"
      ],
      "execution_count": null,
      "outputs": [
        {
          "output_type": "stream",
          "text": [
            "Cache-file 'mean_log_change-222275e4.pickle' on disk (0 days old).\n",
            "- Loading from disk ... Done!\n"
          ],
          "name": "stdout"
        }
      ]
    },
    {
      "cell_type": "code",
      "metadata": {
        "colab": {
          "background_save": true
        },
        "id": "HN3XW3dtMZTL",
        "outputId": "8e1473b8-c60e-45fa-96e6-1231a6ee2c63"
      },
      "source": [
        "# Looks like some values are NaN\n",
        "# Probably need to get rid of them later\n",
        "print(df_returns)"
      ],
      "execution_count": null,
      "outputs": [
        {
          "output_type": "stream",
          "text": [
            "Ticker  Date      \n",
            "A       2007-01-03   -0.147197\n",
            "        2007-01-04   -0.149252\n",
            "        2007-01-05   -0.144586\n",
            "        2007-01-08   -0.143051\n",
            "        2007-01-09   -0.144199\n",
            "                        ...   \n",
            "ZYXI    2019-12-02         NaN\n",
            "        2019-12-03         NaN\n",
            "        2019-12-04         NaN\n",
            "        2019-12-05         NaN\n",
            "        2019-12-06         NaN\n",
            "Name: Total Return 1-3 Years, Length: 5706725, dtype: float64\n"
          ],
          "name": "stdout"
        }
      ]
    },
    {
      "cell_type": "code",
      "metadata": {
        "colab": {
          "background_save": true
        },
        "id": "7wHg-uOJMZTL"
      },
      "source": [
        "# Combining returns with dataset\n",
        "# have to use original dataset to match the rows\n",
        "dfs = [df_sig, df_returns]\n",
        "df_sig_ret = pd.concat(dfs, axis=1)"
      ],
      "execution_count": null,
      "outputs": []
    },
    {
      "cell_type": "code",
      "metadata": {
        "colab": {
          "background_save": true
        },
        "id": "uuV-C8QiMZTL",
        "outputId": "4e5df00e-6ffc-4389-f4a3-b5860223bdea"
      },
      "source": [
        "# Removing data that isn't at least half filled in\n",
        "print(df_sig_ret.shape)\n",
        "col_before = df_sig_ret.columns\n",
        "threshold = 0.9*len(df_sig.dropna(how='all'))\n",
        "df_sig_ret = df_sig_ret.dropna(axis='columns', thresh=threshold)\n",
        "\n",
        "print(df_sig_ret.shape)\n",
        "col_after = df_sig_ret.columns\n",
        "\n",
        "# Lots of data is missing/NaN so want to clean it\n",
        "# Removing all NaN rows\n",
        "df_sig_ret = df_sig_ret.dropna(how='any')\n",
        "print(df_sig_ret.shape)\n",
        "\n",
        "\n",
        "\n",
        "# Removed columns are:\n",
        "print(col_before.difference(col_after))"
      ],
      "execution_count": null,
      "outputs": [
        {
          "output_type": "stream",
          "text": [
            "(5706725, 43)\n",
            "(5706725, 27)\n",
            "(1781405, 27)\n",
            "Index(['Assets Growth', 'Assets Growth YOY', 'Debt Ratio', 'Dividend Yield',\n",
            "       'Earnings Growth', 'Earnings Growth YOY', 'FCF Growth',\n",
            "       'FCF Growth YOY', 'Interest Coverage', 'Inventory Turnover',\n",
            "       'Net Acquisitions / Total Assets', 'R&D / Gross Profit',\n",
            "       'R&D / Revenue', 'Return on Research Capital', 'Sales Growth',\n",
            "       'Sales Growth YOY'],\n",
            "      dtype='object')\n"
          ],
          "name": "stdout"
        }
      ]
    },
    {
      "cell_type": "code",
      "metadata": {
        "colab": {
          "background_save": true
        },
        "id": "6KsxuMLGMZTM",
        "outputId": "6b61cbf8-de81-4310-b37e-8769ace3b5aa"
      },
      "source": [
        "# Now removing companies which don't have at least 1000 data points\n",
        "df_sig_ret = df_sig_ret.groupby(TICKER) \\\n",
        "                .filter(lambda df: len(df)>1000)\n",
        "print(df_sig_ret.shape)"
      ],
      "execution_count": null,
      "outputs": [
        {
          "output_type": "stream",
          "text": [
            "(1549188, 27)\n"
          ],
          "name": "stdout"
        }
      ]
    },
    {
      "cell_type": "code",
      "metadata": {
        "colab": {
          "background_save": true
        },
        "id": "xRjAV_HmMZTM"
      },
      "source": [
        "# \"Winorize\" the data which caps at 5% and 95% values\n",
        "df_sig_ret = sf.winsorize(df_sig_ret)"
      ],
      "execution_count": null,
      "outputs": []
    },
    {
      "cell_type": "code",
      "metadata": {
        "colab": {
          "background_save": true
        },
        "id": "Y6GGoBgfMZTM",
        "outputId": "6a5d6ff6-6f72-417e-f940-c391bb87f4c3"
      },
      "source": [
        "# Data is now finally cleaned enough for analysis\n",
        "print(df_sig_ret.shape)"
      ],
      "execution_count": null,
      "outputs": [
        {
          "output_type": "stream",
          "text": [
            "(1549188, 27)\n"
          ],
          "name": "stdout"
        }
      ]
    },
    {
      "cell_type": "markdown",
      "metadata": {
        "id": "r5Rr7I9jMZTM"
      },
      "source": [
        "## Machine Learning"
      ]
    },
    {
      "cell_type": "code",
      "metadata": {
        "colab": {
          "background_save": true
        },
        "id": "rpI41ivcMZTN",
        "outputId": "2887ccf4-0ef3-46c3-8c8e-559355b9c1ca"
      },
      "source": [
        "# Split training and test data\n",
        "# Doing it by ticker\n",
        "tickers = df_sig_ret.reset_index()[TICKER].unique()\n",
        "print(tickers)\n",
        "\n",
        "tickers_train, tickers_test = train_test_split(tickers, train_size=.8)\n",
        "#print(tickers_train)\n",
        "#print(tickers_test)"
      ],
      "execution_count": null,
      "outputs": [
        {
          "output_type": "stream",
          "text": [
            "['A' 'AAON' 'AAP' ... 'ZEUS' 'ZGNX' 'ZMH']\n"
          ],
          "name": "stdout"
        }
      ]
    },
    {
      "cell_type": "code",
      "metadata": {
        "colab": {
          "background_save": true
        },
        "id": "sDfRT24xZLlf",
        "outputId": "6b9ef976-24cd-4fdb-d150-6589f3063d65"
      },
      "source": [
        "# Too much data, need to reduce it\n",
        "np.random.seed(0)\n",
        "tickers_train = np.random.choice(tickers_train, 40, replace=False)\n",
        "tickers_test = np.random.choice(tickers_test, 3, replace=False)\n",
        "\n",
        "print(tickers_train)\n",
        "print(tickers_test)"
      ],
      "execution_count": null,
      "outputs": [
        {
          "output_type": "stream",
          "text": [
            "['MCK' 'FDS' 'AAWW' 'VRSN' 'FLXS' 'AWX' 'BLDR' 'ORCL' 'WWE' 'ULBI' 'MIND'\n",
            " 'MELI' 'KMI' 'USM' 'SNPS' 'IAC' 'HP' 'ULTA' 'MYGN' 'COG' 'HNI' 'PETS'\n",
            " 'UDR' 'IAIC' 'MDRX' 'RECN' 'TPX' 'STLD' 'PRLB' 'SPB' 'AAON' 'SCSS' 'USAP'\n",
            " 'EXP' 'CHRW' 'PG' 'IT' 'RMD' 'BREW' 'OCC']\n",
            "['OTEX' 'LMT' 'RTN']\n"
          ],
          "name": "stdout"
        }
      ]
    },
    {
      "cell_type": "code",
      "metadata": {
        "colab": {
          "background_save": true
        },
        "id": "imsWi-NnMZTO",
        "outputId": "6577564d-a743-4e10-8b5b-5cb57685af06"
      },
      "source": [
        "# The values above were only tickers, did not contain all the data\n",
        "df_train = df_sig_ret.loc[tickers_train]\n",
        "df_test = df_sig_ret.loc[tickers_test]\n",
        "print(df_train.shape)\n",
        "print(df_test.shape)"
      ],
      "execution_count": null,
      "outputs": [
        {
          "output_type": "stream",
          "text": [
            "(56477, 27)\n",
            "(5308, 27)\n"
          ],
          "name": "stdout"
        }
      ]
    },
    {
      "cell_type": "code",
      "metadata": {
        "colab": {
          "background_save": true
        },
        "id": "gwxvkXagMZTO",
        "outputId": "fde6c581-a416-4508-9a73-512a5584afd1"
      },
      "source": [
        "# Splitting data frame into X and y frames\n",
        "X_train = df_train.drop(columns=[\"Total Return 1-3 Years\"])\n",
        "X_test = df_test.drop(columns=[\"Total Return 1-3 Years\"])\n",
        "\n",
        "y_train = df_train[\"Total Return 1-3 Years\"]\n",
        "y_test = df_test[\"Total Return 1-3 Years\"]\n",
        "\n",
        "print(X_train.shape, \"and\", y_train.shape)\n",
        "print(X_test.shape, \"and\", y_test.shape)\n"
      ],
      "execution_count": null,
      "outputs": [
        {
          "output_type": "stream",
          "text": [
            "(56477, 26) and (56477,)\n",
            "(5308, 26) and (5308,)\n"
          ],
          "name": "stdout"
        }
      ]
    },
    {
      "cell_type": "code",
      "metadata": {
        "colab": {
          "base_uri": "https://localhost:8080/"
        },
        "id": "kOdxc2hlMZTP",
        "outputId": "88ee648e-26aa-483a-c12e-5b4d7094ee8e"
      },
      "source": [
        "# Using actual machine learning algorithm as selected\n",
        "# Using the SVR - Support Vector Regression\n",
        "\n",
        "# Training values\n",
        "model = SVR(C=1.0, kernel='rbf',gamma='auto')\n",
        "model.fit(X_train, y_train)\n",
        "#y_train_predict = model.predict(x_train)\n",
        "model.score(X_train, y_train)"
      ],
      "execution_count": null,
      "outputs": [
        {
          "output_type": "execute_result",
          "data": {
            "text/plain": [
              "-2173.3991743855063"
            ]
          },
          "metadata": {
            "tags": []
          },
          "execution_count": 21
        }
      ]
    },
    {
      "cell_type": "code",
      "metadata": {
        "id": "vZBdsbga-3Q7"
      },
      "source": [
        "# Plotting HP and PG stock returns predicted vs actual\n",
        "\n",
        "# First getting the relevant values form the DataFrame and predicting\n",
        "df_y_train = pd.DataFrame(y_train)\n",
        "df_X_train = pd.DataFrame(X_train)\n",
        "\n",
        "# Indexing relevant values\n",
        "df_y_HP = df_y_train.loc[\"HP\"]\n",
        "df_y_PG = df_y_train.loc[\"KMI\"]\n",
        "df_X_HP = df_X_train.loc[\"HP\"]\n",
        "df_X_PG = df_X_train.loc[\"KMI\"]\n",
        "\n",
        "# Predicting\n",
        "df_y_HP_pred = model.predict(df_X_HP)\n",
        "df_y_PG_pred = model.predict(df_X_PG)\n",
        "\n",
        "# Adding to original df\n",
        "df_y_HP['Predicted Return'] = df_y_HP_pred\n",
        "df_y_PG['Predicted Return'] = df_y_PG_pred\n"
      ],
      "execution_count": null,
      "outputs": []
    },
    {
      "cell_type": "code",
      "metadata": {
        "colab": {
          "base_uri": "https://localhost:8080/",
          "height": 285
        },
        "id": "k_ekUnJIDxSs",
        "outputId": "0641740c-4660-433f-a831-845fe8f5f1ac"
      },
      "source": [
        "# Plotting HP\n",
        "_ = df_y_HP.plot(title=\"HP\")"
      ],
      "execution_count": null,
      "outputs": [
        {
          "output_type": "display_data",
          "data": {
            "image/png": "[encoded data removed]",
            "text/plain": [
              "<Figure size 432x288 with 1 Axes>"
            ]
          },
          "metadata": {
            "tags": [],
            "needs_background": "light"
          }
        }
      ]
    },
    {
      "cell_type": "code",
      "metadata": {
        "colab": {
          "base_uri": "https://localhost:8080/",
          "height": 285
        },
        "id": "9vCz1dptD_tj",
        "outputId": "17504f96-6a15-46f4-edef-e315d1c77a2c"
      },
      "source": [
        "# Plotting PG\n",
        "_ = df_y_PG.plot(title=\"PG\")"
      ],
      "execution_count": null,
      "outputs": [
        {
          "output_type": "display_data",
          "data": {
            "image/png": "[encoded data removed]",
            "text/plain": [
              "<Figure size 432x288 with 1 Axes>"
            ]
          },
          "metadata": {
            "tags": [],
            "needs_background": "light"
          }
        }
      ]
    },
    {
      "cell_type": "code",
      "metadata": {
        "colab": {
          "base_uri": "https://localhost:8080/",
          "height": 285
        },
        "id": "ziCDa01ALAMF",
        "outputId": "3d582929-d064-404c-efb6-d0c8cf9e4070"
      },
      "source": [
        "# Plotting KMI\n",
        "_ = df_y_PG.plot(title=\"KMI\")"
      ],
      "execution_count": null,
      "outputs": [
        {
          "output_type": "display_data",
          "data": {
            "image/png": "[encoded data removed]",
            "text/plain": [
              "<Figure size 432x288 with 1 Axes>"
            ]
          },
          "metadata": {
            "tags": [],
            "needs_background": "light"
          }
        }
      ]
    },
    {
      "cell_type": "code",
      "metadata": {
        "id": "qEnih-uoC7Fi"
      },
      "source": [
        "# Getting AAPL and MSFT for validating training data\n",
        "df_AAPL = df_sig_ret.loc[\"AAPL\"]\n",
        "df_TJX = df_sig_ret.loc[\"TJX\"]\n",
        "\n",
        "df_X_AAPL = pd.DataFrame(df_AAPL.drop(columns=[\"Total Return 1-3 Years\"]))\n",
        "df_X_TJX = pd.DataFrame(df_TJX.drop(columns=[\"Total Return 1-3 Years\"]))\n",
        "\n",
        "df_y_AAPL = pd.DataFrame(df_AAPL[\"Total Return 1-3 Years\"])\n",
        "df_y_TJX = pd.DataFrame(df_TJX[\"Total Return 1-3 Years\"])\n",
        "\n",
        "\n",
        "# Predicting\n",
        "df_y_AAPL_pred = model.predict(df_X_AAPL)\n",
        "df_y_TJX_pred = model.predict(df_X_TJX)\n",
        "\n",
        "\n",
        "# Adding to original df\n",
        "df_y_AAPL['Predicted Return'] = df_y_AAPL_pred\n",
        "df_y_TJX['Predicted Return'] = df_y_TJX_pred"
      ],
      "execution_count": null,
      "outputs": []
    },
    {
      "cell_type": "code",
      "metadata": {
        "colab": {
          "base_uri": "https://localhost:8080/",
          "height": 285
        },
        "id": "TrTpV-ucEoq3",
        "outputId": "1f350ce2-0498-4832-b0f0-7ec3bf4b616f"
      },
      "source": [
        "# Plotting GE\n",
        "#print(df_y_AAPL.columns)\n",
        "_ = df_y_AAPL.plot(title=\"GE\")"
      ],
      "execution_count": null,
      "outputs": [
        {
          "output_type": "display_data",
          "data": {
            "image/png": "[encoded data removed]",
            "text/plain": [
              "<Figure size 432x288 with 1 Axes>"
            ]
          },
          "metadata": {
            "tags": [],
            "needs_background": "light"
          }
        }
      ]
    },
    {
      "cell_type": "code",
      "metadata": {
        "colab": {
          "base_uri": "https://localhost:8080/",
          "height": 285
        },
        "id": "n2HotzpYKacY",
        "outputId": "676eabd1-8122-4050-c757-27117fcd6c72"
      },
      "source": [
        "# Plotting MSFT\n",
        "_ = df_y_TJX.plot(title=\"MSFT\")"
      ],
      "execution_count": null,
      "outputs": [
        {
          "output_type": "display_data",
          "data": {
            "image/png": "[encoded data removed]",
            "text/plain": [
              "<Figure size 432x288 with 1 Axes>"
            ]
          },
          "metadata": {
            "tags": [],
            "needs_background": "light"
          }
        }
      ]
    },
    {
      "cell_type": "code",
      "metadata": {
        "colab": {
          "base_uri": "https://localhost:8080/",
          "height": 285
        },
        "id": "0JV4bkGVLRX4",
        "outputId": "a00fc1ec-ed07-4332-ed6a-7bb6995170c9"
      },
      "source": [
        "# Plotting TJX\n",
        "_ = df_y_TJX.plot(title=\"TJX\")"
      ],
      "execution_count": null,
      "outputs": [
        {
          "output_type": "display_data",
          "data": {
            "image/png": "[encoded data removed]",
            "text/plain": [
              "<Figure size 432x288 with 1 Axes>"
            ]
          },
          "metadata": {
            "tags": [],
            "needs_background": "light"
          }
        }
      ]
    },
    {
      "cell_type": "code",
      "metadata": {
        "colab": {
          "base_uri": "https://localhost:8080/",
          "height": 285
        },
        "id": "RzP2mS5hLU-n",
        "outputId": "7f8b7597-49f4-4762-d7b3-994828d653c7"
      },
      "source": [
        "# Plotting AAPL\n",
        "_ = df_y_AAPL.plot(title=\"AAPL\")"
      ],
      "execution_count": null,
      "outputs": [
        {
          "output_type": "display_data",
          "data": {
            "image/png": "[encoded data removed]",
            "text/plain": [
              "<Figure size 432x288 with 1 Axes>"
            ]
          },
          "metadata": {
            "tags": [],
            "needs_background": "light"
          }
        }
      ]
    },
    {
      "cell_type": "code",
      "metadata": {
        "colab": {
          "base_uri": "https://localhost:8080/"
        },
        "id": "FPqw6oUCCEU1",
        "outputId": "a166786d-a78c-4113-f69b-4b55c908d0c4"
      },
      "source": [
        "print(df_y_AAPL)"
      ],
      "execution_count": null,
      "outputs": [
        {
          "output_type": "stream",
          "text": [
            "Date\n",
            "2007-01-03    0.278078\n",
            "2007-01-04    0.265229\n",
            "2007-01-05    0.269213\n",
            "2007-01-08    0.266987\n",
            "2007-01-09    0.222634\n",
            "                ...   \n",
            "2016-11-30    0.309225\n",
            "2016-12-01    0.314699\n",
            "2016-12-02    0.313016\n",
            "2016-12-05    0.317487\n",
            "2016-12-06    0.313716\n",
            "Name: Total Return 1-3 Years, Length: 2501, dtype: float64\n"
          ],
          "name": "stdout"
        }
      ]
    },
    {
      "cell_type": "code",
      "metadata": {
        "id": "Mq8PRgnxMZTP"
      },
      "source": [
        "# Plotting training results\n",
        "#plt.figure()\n",
        "#plt.title(\"Stock Returns Comparison\")\n",
        "#plt.xlabel(\"Date\")\n",
        "#plt.ylabel(\"Log-Mean Returns\")\n",
        "#plt.plot(range(0,len(x_train)), y_train, c='r')\n",
        "#plt.plot(range(0,len(x_train)), train_predict, c='k')"
      ],
      "execution_count": null,
      "outputs": []
    }
  ]
}