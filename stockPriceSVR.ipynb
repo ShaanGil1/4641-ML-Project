{
 "cells": [
  {
   "cell_type": "code",
   "execution_count": 1,
   "metadata": {},
   "outputs": [
    {
     "name": "stdout",
     "output_type": "stream",
     "text": [
      "Requirement already satisfied: simfin in c:\\users\\atman\\anaconda3\\lib\\site-packages (0.8.1)\n",
      "Requirement already satisfied: requests in c:\\users\\atman\\anaconda3\\lib\\site-packages (from simfin) (2.22.0)\n",
      "Requirement already satisfied: pandas in c:\\users\\atman\\anaconda3\\lib\\site-packages (from simfin) (0.25.1)\n",
      "Requirement already satisfied: numpy in c:\\users\\atman\\anaconda3\\lib\\site-packages (from simfin) (1.16.5)\n",
      "Requirement already satisfied: chardet<3.1.0,>=3.0.2 in c:\\users\\atman\\anaconda3\\lib\\site-packages (from requests->simfin) (3.0.4)\n",
      "Requirement already satisfied: certifi>=2017.4.17 in c:\\users\\atman\\anaconda3\\lib\\site-packages (from requests->simfin) (2019.9.11)\n",
      "Requirement already satisfied: urllib3!=1.25.0,!=1.25.1,<1.26,>=1.21.1 in c:\\users\\atman\\anaconda3\\lib\\site-packages (from requests->simfin) (1.24.2)\n",
      "Requirement already satisfied: idna<2.9,>=2.5 in c:\\users\\atman\\anaconda3\\lib\\site-packages (from requests->simfin) (2.8)\n",
      "Requirement already satisfied: pytz>=2017.2 in c:\\users\\atman\\anaconda3\\lib\\site-packages (from pandas->simfin) (2019.3)\n",
      "Requirement already satisfied: python-dateutil>=2.6.1 in c:\\users\\atman\\anaconda3\\lib\\site-packages (from pandas->simfin) (2.8.0)\n",
      "Requirement already satisfied: six>=1.5 in c:\\users\\atman\\anaconda3\\lib\\site-packages (from python-dateutil>=2.6.1->pandas->simfin) (1.12.0)\n"
     ]
    }
   ],
   "source": [
    "!pip install simfin"
   ]
  },
  {
   "cell_type": "code",
   "execution_count": 33,
   "metadata": {},
   "outputs": [],
   "source": [
    "import simfin as sf\n",
    "import pandas as pd\n",
    "from matplotlib import pyplot as plt\n",
    "\n",
    "from sklearn.model_selection import train_test_split\n",
    "from sklearn.svm import SVR\n",
    "\n",
    "from simfin.names import *"
   ]
  },
  {
   "cell_type": "code",
   "execution_count": 3,
   "metadata": {},
   "outputs": [],
   "source": [
    "def getData():\n",
    "    sf.set_api_key('free')\n",
    "\n",
    "    # Set the local directory where data-files are stored.\n",
    "    # The dir will be created if it does not already exist.\n",
    "    sf.set_data_dir('~/simfin_data/')\n",
    "\n",
    "    # Load daily share-prices for all companies in USA.\n",
    "    # The data is automatically downloaded if you don't have it already.\n",
    "    return sf.load_shareprices(market='us', variant='daily')"
   ]
  },
  {
   "cell_type": "code",
   "execution_count": 4,
   "metadata": {},
   "outputs": [],
   "source": [
    "def getStocks(df_prices, list_of_stocks, numberOfDays):\n",
    "    # Plot the closing share-prices for ticker MSFT.\n",
    "    #msft_close_values_TEMP = df_prices.loc['MSFT']\n",
    "    #print(msft_close_values_TEMP.columns)\n",
    "\n",
    "    big_df = pd.DataFrame()\n",
    "    df_list = []\n",
    "    for stock in list_of_stocks:\n",
    "        temp_df = df_prices.loc[stock].tail(numberOfDays)\n",
    "        temp_df = temp_df[[\"SimFinId\", \"Close\", \"Open\", \"High\", \"Low\"]]\n",
    "        big_df = pd.concat([big_df, temp_df])\n",
    "        df_list.append(temp_df)\n",
    "\n",
    "    ultimate_df = big_df\n",
    "\n",
    "    return ultimate_df, df_list"
   ]
  },
  {
   "cell_type": "code",
   "execution_count": 5,
   "metadata": {},
   "outputs": [
    {
     "name": "stdout",
     "output_type": "stream",
     "text": [
      "Dataset \"us-shareprices-daily\" on disk (0 days old).\n",
      "- Loading from disk ... Done!\n"
     ]
    }
   ],
   "source": [
    "# Load in entire data frame\n",
    "data = getData()"
   ]
  },
  {
   "cell_type": "code",
   "execution_count": 22,
   "metadata": {},
   "outputs": [],
   "source": [
    "# Picking out individual data for stocks and days\n",
    "stock_name = ['AAPL']\n",
    "num_days = 410"
   ]
  },
  {
   "cell_type": "code",
   "execution_count": 23,
   "metadata": {},
   "outputs": [
    {
     "data": {
      "text/html": [
       "<div>\n",
       "<style scoped>\n",
       "    .dataframe tbody tr th:only-of-type {\n",
       "        vertical-align: middle;\n",
       "    }\n",
       "\n",
       "    .dataframe tbody tr th {\n",
       "        vertical-align: top;\n",
       "    }\n",
       "\n",
       "    .dataframe thead th {\n",
       "        text-align: right;\n",
       "    }\n",
       "</style>\n",
       "<table border=\"1\" class=\"dataframe\">\n",
       "  <thead>\n",
       "    <tr style=\"text-align: right;\">\n",
       "      <th></th>\n",
       "      <th>SimFinId</th>\n",
       "      <th>Close</th>\n",
       "      <th>Open</th>\n",
       "      <th>High</th>\n",
       "      <th>Low</th>\n",
       "    </tr>\n",
       "    <tr>\n",
       "      <th>Date</th>\n",
       "      <th></th>\n",
       "      <th></th>\n",
       "      <th></th>\n",
       "      <th></th>\n",
       "      <th></th>\n",
       "    </tr>\n",
       "  </thead>\n",
       "  <tbody>\n",
       "    <tr>\n",
       "      <td>2018-03-21</td>\n",
       "      <td>111052</td>\n",
       "      <td>42.82</td>\n",
       "      <td>43.76</td>\n",
       "      <td>43.77</td>\n",
       "      <td>42.81</td>\n",
       "    </tr>\n",
       "    <tr>\n",
       "      <td>2018-03-22</td>\n",
       "      <td>111052</td>\n",
       "      <td>42.21</td>\n",
       "      <td>42.50</td>\n",
       "      <td>43.17</td>\n",
       "      <td>42.15</td>\n",
       "    </tr>\n",
       "    <tr>\n",
       "      <td>2018-03-23</td>\n",
       "      <td>111052</td>\n",
       "      <td>41.23</td>\n",
       "      <td>42.10</td>\n",
       "      <td>42.48</td>\n",
       "      <td>41.23</td>\n",
       "    </tr>\n",
       "    <tr>\n",
       "      <td>2018-03-26</td>\n",
       "      <td>111052</td>\n",
       "      <td>43.19</td>\n",
       "      <td>42.02</td>\n",
       "      <td>43.27</td>\n",
       "      <td>41.61</td>\n",
       "    </tr>\n",
       "    <tr>\n",
       "      <td>2018-03-27</td>\n",
       "      <td>111052</td>\n",
       "      <td>42.09</td>\n",
       "      <td>43.42</td>\n",
       "      <td>43.79</td>\n",
       "      <td>41.73</td>\n",
       "    </tr>\n",
       "  </tbody>\n",
       "</table>\n",
       "</div>"
      ],
      "text/plain": [
       "            SimFinId  Close   Open   High    Low\n",
       "Date                                            \n",
       "2018-03-21    111052  42.82  43.76  43.77  42.81\n",
       "2018-03-22    111052  42.21  42.50  43.17  42.15\n",
       "2018-03-23    111052  41.23  42.10  42.48  41.23\n",
       "2018-03-26    111052  43.19  42.02  43.27  41.61\n",
       "2018-03-27    111052  42.09  43.42  43.79  41.73"
      ]
     },
     "execution_count": 23,
     "metadata": {},
     "output_type": "execute_result"
    }
   ],
   "source": [
    "# Current stock as a data frame\n",
    "cur_stock, _ = getStocks(data, stock_name, num_days)\n",
    "cur_stock.head()"
   ]
  },
  {
   "cell_type": "code",
   "execution_count": 75,
   "metadata": {},
   "outputs": [],
   "source": [
    "# Setting up new column for closing values and shifting data accordingly\n",
    "future_price = cur_stock[\"Close\"]\n",
    "future_price = future_price.tail(len(future_price)-10)\n",
    "cur_stock = cur_stock.head(len(future_price))"
   ]
  },
  {
   "cell_type": "code",
   "execution_count": 76,
   "metadata": {},
   "outputs": [],
   "source": [
    "# Splitting into testing and training sets\n",
    "x = cur_stock\n",
    "y = future_price\n",
    "\n",
    "x_train, x_test, y_train, y_test = train_test_split(x, y, test_size=0.2, shuffle=False)"
   ]
  },
  {
   "cell_type": "code",
   "execution_count": 77,
   "metadata": {},
   "outputs": [
    {
     "data": {
      "text/plain": [
       "0.7466699233249088"
      ]
     },
     "execution_count": 77,
     "metadata": {},
     "output_type": "execute_result"
    }
   ],
   "source": [
    "# Training values\n",
    "model = SVR(C=1.0, kernel='rbf',gamma='auto')\n",
    "model.fit(x_train, y_train)\n",
    "train_predict = model.predict(x_train)\n",
    "model.score(x_train, y_train)"
   ]
  },
  {
   "cell_type": "code",
   "execution_count": 78,
   "metadata": {},
   "outputs": [
    {
     "data": {
      "text/plain": [
       "[<matplotlib.lines.Line2D at 0x241a560f648>]"
      ]
     },
     "execution_count": 78,
     "metadata": {},
     "output_type": "execute_result"
    },
    {
     "data": {
      "image/png": "[encoded data removed]",
      "text/plain": [
       "<Figure size 432x288 with 1 Axes>"
      ]
     },
     "metadata": {
      "needs_background": "light"
     },
     "output_type": "display_data"
    }
   ],
   "source": [
    "# Plotting training results\n",
    "plt.figure()\n",
    "plt.title(\"Actual (red) vs Predicted (black)\")\n",
    "plt.xlabel(\"Date\")\n",
    "plt.ylabel(\"Close Price\")\n",
    "plt.plot(range(0,len(x_train)), y_train, c='r')\n",
    "plt.plot(range(0,len(x_train)), train_predict, c='k')"
   ]
  },
  {
   "cell_type": "code",
   "execution_count": 79,
   "metadata": {},
   "outputs": [
    {
     "data": {
      "text/plain": [
       "-0.25431126700362205"
      ]
     },
     "execution_count": 79,
     "metadata": {},
     "output_type": "execute_result"
    }
   ],
   "source": [
    "# Testing values\n",
    "test_predict = model.predict(x_test)\n",
    "model.score(x_test, y_test)"
   ]
  },
  {
   "cell_type": "code",
   "execution_count": 80,
   "metadata": {},
   "outputs": [
    {
     "data": {
      "text/plain": [
       "[<matplotlib.lines.Line2D at 0x241a55a5c08>]"
      ]
     },
     "execution_count": 80,
     "metadata": {},
     "output_type": "execute_result"
    },
    {
     "data": {
      "image/png": "[encoded data removed]",
      "text/plain": [
       "<Figure size 432x288 with 1 Axes>"
      ]
     },
     "metadata": {
      "needs_background": "light"
     },
     "output_type": "display_data"
    }
   ],
   "source": [
    "# Plotting testing results\n",
    "plt.figure()\n",
    "plt.title(\"Actual (red) vs Predicted (black)\")\n",
    "plt.xlabel(\"Date\")\n",
    "plt.ylabel(\"Close Price\")\n",
    "plt.plot(range(0,len(x_test)), y_test, c='r')\n",
    "plt.plot(range(0,len(x_test)), test_predict, c='k')"
   ]
  },
  {
   "cell_type": "code",
   "execution_count": null,
   "metadata": {},
   "outputs": [],
   "source": []
  },
  {
   "cell_type": "code",
   "execution_count": null,
   "metadata": {},
   "outputs": [],
   "source": []
  }
 ],
 "metadata": {
  "kernelspec": {
   "display_name": "Python 3",
   "language": "python",
   "name": "python3"
  },
  "language_info": {
   "codemirror_mode": {
    "name": "ipython",
    "version": 3
   },
   "file_extension": ".py",
   "mimetype": "text/x-python",
   "name": "python",
   "nbconvert_exporter": "python",
   "pygments_lexer": "ipython3",
   "version": "3.7.4"
  }
 },
 "nbformat": 4,
 "nbformat_minor": 2
}
