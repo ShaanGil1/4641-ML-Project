{
 "cells": [
  {
   "cell_type": "code",
   "execution_count": 13,
   "metadata": {},
   "outputs": [],
   "source": [
    "import matplotlib.pyplot as plt\n",
    "#from kneed import KneeLocator\n",
    "from sklearn.datasets import make_blobs\n",
    "from sklearn.cluster import KMeans\n",
    "from sklearn.metrics import silhouette_score\n",
    "from sklearn.preprocessing import StandardScaler\n",
    "from pandas import DataFrame"
   ]
  },
  {
   "cell_type": "code",
   "execution_count": 43,
   "metadata": {},
   "outputs": [
    {
     "name": "stdout",
     "output_type": "stream",
     "text": [
      "Dataset \"us-shareprices-daily\" on disk (0 days old).\n",
      "- Loading from disk ... Done!\n",
      "Index(['SimFinId', 'Open', 'Low', 'High', 'Close', 'Adj. Close', 'Dividend',\n",
      "       'Volume', 'Shares Outstanding'],\n",
      "      dtype='object')\n"
     ]
    }
   ],
   "source": [
    "import simfin as sf\n",
    "import pandas as pd\n",
    "import matplotlib as plt\n",
    "import numpy as np\n",
    "from matplotlib import pyplot as plt\n",
    "from sklearn.cluster import KMeans\n",
    "from sklearn.model_selection import train_test_split\n",
    "from sklearn.preprocessing import StandardScaler\n",
    "from simfin.names import *\n",
    "from sklearn.neighbors import KNeighborsClassifier\n",
    "from sklearn.metrics import classification_report, confusion_matrix\n",
    "\n",
    "def getData():\n",
    "    sf.set_api_key('free')\n",
    "\n",
    "    # Set the local directory where data-files are stored.\n",
    "    # The dir will be created if it does not already exist.\n",
    "    sf.set_data_dir('~/simfin_data/')\n",
    "\n",
    "    # Load daily share-prices for all companies in USA.\n",
    "    # The data is automatically downloaded if you don't have it already.\n",
    "    df_prices = sf.load_shareprices(market='us', variant='daily')\n",
    "\n",
    "    # Plot the closing share-prices for ticker MSFT.\n",
    "    msft_close_values_TEMP = df_prices.loc['MSFT']\n",
    "\n",
    "    print(msft_close_values_TEMP.columns)\n",
    "\n",
    "    list_of_stocks = ['AAPL', 'MSFT', 'CLDR', 'CRM', 'TSLA', 'NVDA', 'DAL']\n",
    "\n",
    "    big_df = pd.DataFrame()\n",
    "    for stock in list_of_stocks:\n",
    "        temp_df = df_prices.loc[stock].tail(100)\n",
    "        temp_df = temp_df[[\"SimFinId\", \"Close\", \"Open\", \"High\", \"Low\"]]\n",
    "        big_df = pd.concat([big_df, temp_df])\n",
    "\n",
    "    ultimate_df = big_df\n",
    "\n",
    "    return ultimate_df\n",
    "\n",
    "\n",
    "def plottingExperiments(df_prices):\n",
    "    #PLOTTING\n",
    "    msft_close_values= df_prices.loc['MSFT']\n",
    "    msft_close_values = msft_close_values[[\"Close\", \"Open\", \"High\", \"Low\"]]\n",
    "    msft_close_values.plot(grid=True, figsize=(10, 5), title='MSFT Close')\n",
    "\n",
    "    aapl_close_values = df_prices.loc['AAPL', CLOSE].tail(100)\n",
    "    aapl_close_values.plot(grid=True, figsize=(10, 5), title='APPL Close')\n",
    "\n",
    "    print(type(msft_close_values))\n",
    "\n",
    "    #plt.scatter(x, y)\n",
    "\n",
    "if __name__ == '__main__':\n",
    "    data = getData()\n",
    "    #plottingExperiments()\n"
   ]
  },
  {
   "cell_type": "code",
   "execution_count": 48,
   "metadata": {},
   "outputs": [
    {
     "data": {
      "text/plain": [
       "<matplotlib.collections.PathCollection at 0x1540a0c93d0>"
      ]
     },
     "execution_count": 48,
     "metadata": {},
     "output_type": "execute_result"
    },
    {
     "data": {
      "image/png": "[encoded data removed]",
      "text/plain": [
       "<Figure size 432x288 with 1 Axes>"
      ]
     },
     "metadata": {
      "needs_background": "light"
     },
     "output_type": "display_data"
    }
   ],
   "source": [
    "# Set up array for changed data to go into\n",
    "finishedData = []\n",
    "\n",
    "# Converts data to np array to make it easier to work with\n",
    "data = np.array(data)\n",
    "\n",
    "# Iterates through the number of stocks (change this number when increasing the number of stocks)\n",
    "for x in range(7):\n",
    "    # Temp array to work with\n",
    "    temp = []\n",
    "    \n",
    "    # Adds the number of entries per stock to temp array\n",
    "    # (Change this number if increasing/decrease the number of data points per stock)\n",
    "    for i in range(100):\n",
    "        temp.append(data[i + x*100])\n",
    "    \n",
    "    # Make into np array \n",
    "    temp = np.array(temp)\n",
    "    \n",
    "    # Take the mean of all the colemns\n",
    "    temp = np.mean(temp, axis=0)\n",
    "    \n",
    "    # Values to reduce number of features while also keeping the data\n",
    "    # These varibles hold avg(open) - avg(close) and avg(high) - avg(low)\n",
    "    openCloseDiff = temp[2] - temp[1] \n",
    "    highLowDiff = temp[3] - temp[4]\n",
    "    \n",
    "    # Add these points to array that will use Kmeans\n",
    "    finishedData.append([openCloseDiff, highLowDiff])\n",
    "\n",
    "# Make into np.array and print for referance (if needed)\n",
    "finishedData = np.array(finishedData)\n",
    "#print(finishedData)\n",
    "\n",
    "# Runs Kmeans on the data with number of cluster=2, can change this when we find ideal number of clusters when finalizing data set\n",
    "kmeans = KMeans(n_clusters=2).fit(finishedData)\n",
    "\n",
    "# Finds, converts to np.array and prints centriods \n",
    "centroids = kmeans.cluster_centers_\n",
    "centroids = np.array(centroids)\n",
    "#print(centroids)\n",
    "\n",
    "# Places the points on scatter plot, blue points are each stock and orange are the centers\n",
    "plt.scatter(finishedData[:,0], finishedData[:,1])\n",
    "plt.scatter(centroids[:,0], centroids[:,1])\n",
    "    "
   ]
  },
  {
   "cell_type": "code",
   "execution_count": 49,
   "metadata": {},
   "outputs": [
    {
     "name": "stdout",
     "output_type": "stream",
     "text": [
      "[[ 7  0  0  1  0  0  0]\n",
      " [ 0 13  0  0  0  0  0]\n",
      " [ 0  2 11  0  1  0  0]\n",
      " [ 2  0  0  7  0  2  0]\n",
      " [ 0  0  0  0  9  0  0]\n",
      " [ 0  0  0  0  0  5  0]\n",
      " [ 0  0  0  0  0  0 10]]\n",
      "              precision    recall  f1-score   support\n",
      "\n",
      "     56317.0       0.78      0.88      0.82         8\n",
      "     59265.0       0.87      1.00      0.93        13\n",
      "     85017.0       1.00      0.79      0.88        14\n",
      "    111052.0       0.88      0.64      0.74        11\n",
      "    172199.0       0.90      1.00      0.95         9\n",
      "    231789.0       0.71      1.00      0.83         5\n",
      "    890662.0       1.00      1.00      1.00        10\n",
      "\n",
      "    accuracy                           0.89        70\n",
      "   macro avg       0.88      0.90      0.88        70\n",
      "weighted avg       0.90      0.89      0.88        70\n",
      "\n"
     ]
    },
    {
     "data": {
      "text/plain": [
       "Text(0, 0.5, 'Mean Error')"
      ]
     },
     "execution_count": 49,
     "metadata": {},
     "output_type": "execute_result"
    },
    {
     "data": {
      "image/png": "[encoded data removed]",
      "text/plain": [
       "<Figure size 1296x648 with 1 Axes>"
      ]
     },
     "metadata": {
      "needs_background": "light"
     },
     "output_type": "display_data"
    }
   ],
   "source": [
    "# Gets columns Open, Close, Low and High\n",
    "X = data[:,1:5]\n",
    "# Gets the number of the stock \n",
    "y = data[:,0]\n",
    "# Splits up the data, can modify the size and random state to give different test and training data\n",
    "X_train, X_test, y_train, y_test = train_test_split(X, y, test_size=.5, random_state=2)\n",
    "\n",
    "# Used to scale the data (uneeded)\n",
    "\"\"\"\n",
    "scaler = StandardScaler()\n",
    "scaler.fit(X_train)\n",
    "\n",
    "X_train = scaler.transform(X_train)\n",
    "X_test = scaler.transform(X_test)\n",
    "\"\"\"\n",
    "\n",
    "# Runs KNN\n",
    "y_pred = KNeighborsClassifier(n_neighbors=5).fit(X_train, y_train).predict(X_test)\n",
    "\n",
    "# Displays results\n",
    "print(confusion_matrix(y_test, y_pred))\n",
    "print(classification_report(y_test, y_pred))\n",
    "\n",
    "# Plots the Error\n",
    "error = []\n",
    "\n",
    "for i in range(1, 40):\n",
    "    knn = KNeighborsClassifier(n_neighbors=i)\n",
    "    knn.fit(X_train, y_train)\n",
    "    pred_i = knn.predict(X_test)\n",
    "    error.append(np.mean(pred_i != y_test))\n",
    "\n",
    "plt.figure(figsize=(18, 9))\n",
    "plt.plot(range(1, 40), error, color='black', linestyle='solid', marker='.',\n",
    "         markerfacecolor='blue', markersize=10)\n",
    "plt.title('Error Rate K Value')\n",
    "plt.xlabel('K Value')\n",
    "plt.ylabel('Mean Error')\n"
   ]
  },
  {
   "cell_type": "code",
   "execution_count": null,
   "metadata": {},
   "outputs": [],
   "source": []
  },
  {
   "cell_type": "code",
   "execution_count": null,
   "metadata": {},
   "outputs": [],
   "source": []
  },
  {
   "cell_type": "code",
   "execution_count": null,
   "metadata": {},
   "outputs": [],
   "source": []
  }
 ],
 "metadata": {
  "kernelspec": {
   "display_name": "Python 3",
   "language": "python",
   "name": "python3"
  },
  "language_info": {
   "codemirror_mode": {
    "name": "ipython",
    "version": 3
   },
   "file_extension": ".py",
   "mimetype": "text/x-python",
   "name": "python",
   "nbconvert_exporter": "python",
   "pygments_lexer": "ipython3",
   "version": "3.8.3"
  }
 },
 "nbformat": 4,
 "nbformat_minor": 4
}
