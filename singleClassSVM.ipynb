{
 "cells": [
  {
   "cell_type": "code",
   "execution_count": 6,
   "metadata": {},
   "outputs": [
    {
     "name": "stdout",
     "output_type": "stream",
     "text": [
      "Collecting simfin\n",
      "  Using cached https://files.pythonhosted.org/packages/34/fe/c3bef165ecca4f33c77c3e97aebf6fcd048c487fb2d1ba964839fa9fc38b/simfin-0.8.1-py3-none-any.whl\n",
      "Requirement already satisfied: requests in c:\\users\\atman\\anaconda3\\lib\\site-packages (from simfin) (2.22.0)\n",
      "Requirement already satisfied: numpy in c:\\users\\atman\\anaconda3\\lib\\site-packages (from simfin) (1.16.5)\n",
      "Requirement already satisfied: pandas in c:\\users\\atman\\anaconda3\\lib\\site-packages (from simfin) (0.25.1)\n",
      "Requirement already satisfied: urllib3!=1.25.0,!=1.25.1,<1.26,>=1.21.1 in c:\\users\\atman\\anaconda3\\lib\\site-packages (from requests->simfin) (1.24.2)\n",
      "Requirement already satisfied: idna<2.9,>=2.5 in c:\\users\\atman\\anaconda3\\lib\\site-packages (from requests->simfin) (2.8)\n",
      "Requirement already satisfied: chardet<3.1.0,>=3.0.2 in c:\\users\\atman\\anaconda3\\lib\\site-packages (from requests->simfin) (3.0.4)\n",
      "Requirement already satisfied: certifi>=2017.4.17 in c:\\users\\atman\\anaconda3\\lib\\site-packages (from requests->simfin) (2019.9.11)\n",
      "Requirement already satisfied: pytz>=2017.2 in c:\\users\\atman\\anaconda3\\lib\\site-packages (from pandas->simfin) (2019.3)\n",
      "Requirement already satisfied: python-dateutil>=2.6.1 in c:\\users\\atman\\anaconda3\\lib\\site-packages (from pandas->simfin) (2.8.0)\n",
      "Requirement already satisfied: six>=1.5 in c:\\users\\atman\\anaconda3\\lib\\site-packages (from python-dateutil>=2.6.1->pandas->simfin) (1.12.0)\n",
      "Installing collected packages: simfin\n",
      "Successfully installed simfin-0.8.1\n"
     ]
    }
   ],
   "source": [
    "!pip install simfin"
   ]
  },
  {
   "cell_type": "code",
   "execution_count": 84,
   "metadata": {},
   "outputs": [],
   "source": [
    "import simfin as sf\n",
    "import pandas as pd\n",
    "from matplotlib import pyplot as plt\n",
    "\n",
    "from sklearn.svm import OneClassSVM\n",
    "\n",
    "from simfin.names import *"
   ]
  },
  {
   "cell_type": "code",
   "execution_count": 19,
   "metadata": {},
   "outputs": [],
   "source": [
    "def getData():\n",
    "    sf.set_api_key('free')\n",
    "\n",
    "    # Set the local directory where data-files are stored.\n",
    "    # The dir will be created if it does not already exist.\n",
    "    sf.set_data_dir('~/simfin_data/')\n",
    "\n",
    "    # Load daily share-prices for all companies in USA.\n",
    "    # The data is automatically downloaded if you don't have it already.\n",
    "    return sf.load_shareprices(market='us', variant='daily')"
   ]
  },
  {
   "cell_type": "code",
   "execution_count": 48,
   "metadata": {},
   "outputs": [],
   "source": [
    "def getStocks(df_prices, list_of_stocks, numberOfDays):\n",
    "    # Plot the closing share-prices for ticker MSFT.\n",
    "    #msft_close_values_TEMP = df_prices.loc['MSFT']\n",
    "    #print(msft_close_values_TEMP.columns)\n",
    "\n",
    "    big_df = pd.DataFrame()\n",
    "    df_list = []\n",
    "    for stock in list_of_stocks:\n",
    "        temp_df = df_prices.loc[stock].tail(numberOfDays)\n",
    "        temp_df = temp_df[[\"SimFinId\", \"Close\", \"Open\", \"High\", \"Low\"]]\n",
    "        big_df = pd.concat([big_df, temp_df])\n",
    "        df_list.append(temp_df)\n",
    "\n",
    "    ultimate_df = big_df\n",
    "\n",
    "    return ultimate_df, df_list"
   ]
  },
  {
   "cell_type": "code",
   "execution_count": 39,
   "metadata": {},
   "outputs": [],
   "source": [
    "def plottingExperiments(df_prices):\n",
    "    #PLOTTING\n",
    "    msft_close_values= df_prices.loc['MSFT']\n",
    "    msft_close_values = msft_close_values[[\"Close\", \"Open\", \"High\", \"Low\"]]\n",
    "    msft_close_values.plot(grid=True, figsize=(10, 5), title='MSFT Close')\n",
    "\n",
    "    #aapl_close_values = df_prices.loc['AAPL', CLOSE].tail(100)\n",
    "    #aapl_close_values.plot(grid=True, figsize=(10, 5), title='APPL Close')\n",
    "\n",
    "    #print(type(msft_close_values))"
   ]
  },
  {
   "cell_type": "code",
   "execution_count": 29,
   "metadata": {},
   "outputs": [
    {
     "name": "stdout",
     "output_type": "stream",
     "text": [
      "Dataset \"us-shareprices-daily\" on disk (0 days old).\n",
      "- Loading from disk ... Done!\n"
     ]
    }
   ],
   "source": [
    "# Load in entire data frame\n",
    "data = getData()"
   ]
  },
  {
   "cell_type": "code",
   "execution_count": 40,
   "metadata": {},
   "outputs": [],
   "source": [
    "# Picking out individual data for stocks and days\n",
    "list_of_stocks = ['AAPL', 'MSFT', 'CLDR', 'CRM', 'TSLA', 'NVDA', 'DAL']\n",
    "num_days = 100"
   ]
  },
  {
   "cell_type": "code",
   "execution_count": 54,
   "metadata": {},
   "outputs": [],
   "source": [
    "# List \n",
    "_, cur_stock_list = getStocks(data, list_of_stocks, num_days)"
   ]
  },
  {
   "cell_type": "code",
   "execution_count": 55,
   "metadata": {},
   "outputs": [],
   "source": [
    "for df_stock in cur_stock_list:\n",
    "    df_stock['Change'] = (df_stock['Close'] - df_stock['Open']) / df_stock['Open']\n",
    "    df_stock['Difference'] = (df_stock['High'] - df_stock['Low']) / df_stock['Low']\n",
    "    "
   ]
  },
  {
   "cell_type": "code",
   "execution_count": 61,
   "metadata": {},
   "outputs": [
    {
     "data": {
      "text/html": [
       "<div>\n",
       "<style scoped>\n",
       "    .dataframe tbody tr th:only-of-type {\n",
       "        vertical-align: middle;\n",
       "    }\n",
       "\n",
       "    .dataframe tbody tr th {\n",
       "        vertical-align: top;\n",
       "    }\n",
       "\n",
       "    .dataframe thead th {\n",
       "        text-align: right;\n",
       "    }\n",
       "</style>\n",
       "<table border=\"1\" class=\"dataframe\">\n",
       "  <thead>\n",
       "    <tr style=\"text-align: right;\">\n",
       "      <th></th>\n",
       "      <th>SimFinId</th>\n",
       "      <th>Close</th>\n",
       "      <th>Open</th>\n",
       "      <th>High</th>\n",
       "      <th>Low</th>\n",
       "      <th>Change</th>\n",
       "      <th>Difference</th>\n",
       "    </tr>\n",
       "    <tr>\n",
       "      <th>Date</th>\n",
       "      <th></th>\n",
       "      <th></th>\n",
       "      <th></th>\n",
       "      <th></th>\n",
       "      <th></th>\n",
       "      <th></th>\n",
       "      <th></th>\n",
       "    </tr>\n",
       "  </thead>\n",
       "  <tbody>\n",
       "    <tr>\n",
       "      <td>2019-06-14</td>\n",
       "      <td>111052</td>\n",
       "      <td>48.19</td>\n",
       "      <td>47.89</td>\n",
       "      <td>48.40</td>\n",
       "      <td>47.58</td>\n",
       "      <td>0.006264</td>\n",
       "      <td>0.017234</td>\n",
       "    </tr>\n",
       "    <tr>\n",
       "      <td>2019-06-17</td>\n",
       "      <td>111052</td>\n",
       "      <td>48.47</td>\n",
       "      <td>48.23</td>\n",
       "      <td>48.74</td>\n",
       "      <td>48.04</td>\n",
       "      <td>0.004976</td>\n",
       "      <td>0.014571</td>\n",
       "    </tr>\n",
       "    <tr>\n",
       "      <td>2019-06-18</td>\n",
       "      <td>111052</td>\n",
       "      <td>49.61</td>\n",
       "      <td>49.01</td>\n",
       "      <td>50.07</td>\n",
       "      <td>48.80</td>\n",
       "      <td>0.012242</td>\n",
       "      <td>0.026025</td>\n",
       "    </tr>\n",
       "    <tr>\n",
       "      <td>2019-06-19</td>\n",
       "      <td>111052</td>\n",
       "      <td>49.47</td>\n",
       "      <td>49.92</td>\n",
       "      <td>49.97</td>\n",
       "      <td>49.33</td>\n",
       "      <td>-0.009014</td>\n",
       "      <td>0.012974</td>\n",
       "    </tr>\n",
       "    <tr>\n",
       "      <td>2019-06-20</td>\n",
       "      <td>111052</td>\n",
       "      <td>49.87</td>\n",
       "      <td>50.09</td>\n",
       "      <td>50.15</td>\n",
       "      <td>49.51</td>\n",
       "      <td>-0.004392</td>\n",
       "      <td>0.012927</td>\n",
       "    </tr>\n",
       "  </tbody>\n",
       "</table>\n",
       "</div>"
      ],
      "text/plain": [
       "            SimFinId  Close   Open   High    Low    Change  Difference\n",
       "Date                                                                  \n",
       "2019-06-14    111052  48.19  47.89  48.40  47.58  0.006264    0.017234\n",
       "2019-06-17    111052  48.47  48.23  48.74  48.04  0.004976    0.014571\n",
       "2019-06-18    111052  49.61  49.01  50.07  48.80  0.012242    0.026025\n",
       "2019-06-19    111052  49.47  49.92  49.97  49.33 -0.009014    0.012974\n",
       "2019-06-20    111052  49.87  50.09  50.15  49.51 -0.004392    0.012927"
      ]
     },
     "execution_count": 61,
     "metadata": {},
     "output_type": "execute_result"
    }
   ],
   "source": [
    "# Takes all the data frames and makes them into one\n",
    "full_stock_df = pd.concat(cur_stock_list)\n",
    "full_stock_df.head()"
   ]
  },
  {
   "cell_type": "code",
   "execution_count": 75,
   "metadata": {},
   "outputs": [
    {
     "data": {
      "text/html": [
       "<div>\n",
       "<style scoped>\n",
       "    .dataframe tbody tr th:only-of-type {\n",
       "        vertical-align: middle;\n",
       "    }\n",
       "\n",
       "    .dataframe tbody tr th {\n",
       "        vertical-align: top;\n",
       "    }\n",
       "\n",
       "    .dataframe thead th {\n",
       "        text-align: right;\n",
       "    }\n",
       "</style>\n",
       "<table border=\"1\" class=\"dataframe\">\n",
       "  <thead>\n",
       "    <tr style=\"text-align: right;\">\n",
       "      <th></th>\n",
       "      <th>Change</th>\n",
       "      <th>Difference</th>\n",
       "    </tr>\n",
       "    <tr>\n",
       "      <th>Date</th>\n",
       "      <th></th>\n",
       "      <th></th>\n",
       "    </tr>\n",
       "  </thead>\n",
       "  <tbody>\n",
       "    <tr>\n",
       "      <td>2019-06-14</td>\n",
       "      <td>0.006264</td>\n",
       "      <td>0.017234</td>\n",
       "    </tr>\n",
       "    <tr>\n",
       "      <td>2019-06-17</td>\n",
       "      <td>0.004976</td>\n",
       "      <td>0.014571</td>\n",
       "    </tr>\n",
       "    <tr>\n",
       "      <td>2019-06-18</td>\n",
       "      <td>0.012242</td>\n",
       "      <td>0.026025</td>\n",
       "    </tr>\n",
       "    <tr>\n",
       "      <td>2019-06-19</td>\n",
       "      <td>-0.009014</td>\n",
       "      <td>0.012974</td>\n",
       "    </tr>\n",
       "    <tr>\n",
       "      <td>2019-06-20</td>\n",
       "      <td>-0.004392</td>\n",
       "      <td>0.012927</td>\n",
       "    </tr>\n",
       "  </tbody>\n",
       "</table>\n",
       "</div>"
      ],
      "text/plain": [
       "              Change  Difference\n",
       "Date                            \n",
       "2019-06-14  0.006264    0.017234\n",
       "2019-06-17  0.004976    0.014571\n",
       "2019-06-18  0.012242    0.026025\n",
       "2019-06-19 -0.009014    0.012974\n",
       "2019-06-20 -0.004392    0.012927"
      ]
     },
     "execution_count": 75,
     "metadata": {},
     "output_type": "execute_result"
    }
   ],
   "source": [
    "# Only the Change and Difference Columns\n",
    "features = full_stock_df[[\"Change\", \"Difference\"]]\n",
    "features.head()"
   ]
  },
  {
   "cell_type": "code",
   "execution_count": 106,
   "metadata": {},
   "outputs": [],
   "source": [
    "model = OneClassSVM(kernel='linear', gamma='auto', nu=0.9)\n",
    "predictions = model.fit_predict(features)"
   ]
  },
  {
   "cell_type": "code",
   "execution_count": 107,
   "metadata": {},
   "outputs": [
    {
     "data": {
      "text/plain": [
       "<matplotlib.collections.PathCollection at 0x216a818b508>"
      ]
     },
     "execution_count": 107,
     "metadata": {},
     "output_type": "execute_result"
    },
    {
     "data": {
      "image/png": "[encoded data removed]",
      "text/plain": [
       "<Figure size 432x288 with 1 Axes>"
      ]
     },
     "metadata": {
      "needs_background": "light"
     },
     "output_type": "display_data"
    }
   ],
   "source": [
    "# Plotting values\n",
    "plt.figure()\n",
    "plt.title(\"Raw Data Plotted\")\n",
    "plt.xlabel(\"Normalized Change\")\n",
    "plt.ylabel(\"Normalzied Difference\")\n",
    "plt.scatter(features['Change'], features['Difference'])\n",
    " "
   ]
  },
  {
   "cell_type": "code",
   "execution_count": 108,
   "metadata": {},
   "outputs": [
    {
     "data": {
      "text/plain": [
       "<matplotlib.collections.PathCollection at 0x216a92dd708>"
      ]
     },
     "execution_count": 108,
     "metadata": {},
     "output_type": "execute_result"
    },
    {
     "data": {
      "image/png": "[encoded data removed]",
      "text/plain": [
       "<Figure size 432x288 with 1 Axes>"
      ]
     },
     "metadata": {
      "needs_background": "light"
     },
     "output_type": "display_data"
    }
   ],
   "source": [
    "inliers = features[predictions == 1]\n",
    "outliers = features[predictions == -1]\n",
    "\n",
    "# Plotting values\n",
    "plt.figure()\n",
    "plt.title(\"Inliers and Outliers Plotted\")\n",
    "plt.xlabel(\"Normalized Change\")\n",
    "plt.ylabel(\"Normalzied Difference\")\n",
    "plt.scatter(inliers['Change'], inliers['Difference'], c='b')\n",
    "plt.scatter(outliers['Change'], outliers['Difference'], c='r')"
   ]
  },
  {
   "cell_type": "code",
   "execution_count": 135,
   "metadata": {},
   "outputs": [],
   "source": [
    "# For a new stock, predicting how much of the data is inlier vs outlier\n",
    "newStock = [\"AA\"]\n",
    "_, GE_stock_list = getStocks(data, newStock, num_days)"
   ]
  },
  {
   "cell_type": "code",
   "execution_count": 136,
   "metadata": {},
   "outputs": [
    {
     "data": {
      "text/html": [
       "<div>\n",
       "<style scoped>\n",
       "    .dataframe tbody tr th:only-of-type {\n",
       "        vertical-align: middle;\n",
       "    }\n",
       "\n",
       "    .dataframe tbody tr th {\n",
       "        vertical-align: top;\n",
       "    }\n",
       "\n",
       "    .dataframe thead th {\n",
       "        text-align: right;\n",
       "    }\n",
       "</style>\n",
       "<table border=\"1\" class=\"dataframe\">\n",
       "  <thead>\n",
       "    <tr style=\"text-align: right;\">\n",
       "      <th></th>\n",
       "      <th>Change</th>\n",
       "      <th>Difference</th>\n",
       "    </tr>\n",
       "    <tr>\n",
       "      <th>Date</th>\n",
       "      <th></th>\n",
       "      <th></th>\n",
       "    </tr>\n",
       "  </thead>\n",
       "  <tbody>\n",
       "    <tr>\n",
       "      <td>2019-06-14</td>\n",
       "      <td>0.010698</td>\n",
       "      <td>0.039437</td>\n",
       "    </tr>\n",
       "    <tr>\n",
       "      <td>2019-06-17</td>\n",
       "      <td>0.005574</td>\n",
       "      <td>0.037264</td>\n",
       "    </tr>\n",
       "    <tr>\n",
       "      <td>2019-06-18</td>\n",
       "      <td>0.023150</td>\n",
       "      <td>0.065037</td>\n",
       "    </tr>\n",
       "    <tr>\n",
       "      <td>2019-06-19</td>\n",
       "      <td>-0.011910</td>\n",
       "      <td>0.032735</td>\n",
       "    </tr>\n",
       "    <tr>\n",
       "      <td>2019-06-20</td>\n",
       "      <td>-0.023851</td>\n",
       "      <td>0.035174</td>\n",
       "    </tr>\n",
       "  </tbody>\n",
       "</table>\n",
       "</div>"
      ],
      "text/plain": [
       "              Change  Difference\n",
       "Date                            \n",
       "2019-06-14  0.010698    0.039437\n",
       "2019-06-17  0.005574    0.037264\n",
       "2019-06-18  0.023150    0.065037\n",
       "2019-06-19 -0.011910    0.032735\n",
       "2019-06-20 -0.023851    0.035174"
      ]
     },
     "execution_count": 136,
     "metadata": {},
     "output_type": "execute_result"
    }
   ],
   "source": [
    "GE_stock = GE_stock_list[0]\n",
    "GE_stock['Change'] = (GE_stock['Close'] - GE_stock['Open']) / GE_stock['Open']\n",
    "GE_stock['Difference'] = (GE_stock['High'] - GE_stock['Low']) / GE_stock['Low']\n",
    "GE_features = GE_stock[[\"Change\", \"Difference\"]]\n",
    "GE_features.head()"
   ]
  },
  {
   "cell_type": "code",
   "execution_count": 137,
   "metadata": {},
   "outputs": [],
   "source": [
    "GE_pred = model.predict(GE_features)\n"
   ]
  },
  {
   "cell_type": "code",
   "execution_count": 138,
   "metadata": {},
   "outputs": [
    {
     "data": {
      "text/plain": [
       "<matplotlib.collections.PathCollection at 0x216a95f69c8>"
      ]
     },
     "execution_count": 138,
     "metadata": {},
     "output_type": "execute_result"
    },
    {
     "data": {
      "image/png": "[encoded data removed]",
      "text/plain": [
       "<Figure size 432x288 with 1 Axes>"
      ]
     },
     "metadata": {
      "needs_background": "light"
     },
     "output_type": "display_data"
    }
   ],
   "source": [
    "GE_inliers = GE_features[GE_pred == 1]\n",
    "GE_outliers = GE_features[GE_pred == -1]\n",
    "\n",
    "# Plotting values\n",
    "plt.figure()\n",
    "plt.title(\"GE Inliers and Outliers Plotted\")\n",
    "plt.xlabel(\"Normalized Change\")\n",
    "plt.ylabel(\"Normalzied Difference\")\n",
    "plt.scatter(GE_inliers['Change'], GE_inliers['Difference'], c='b')\n",
    "plt.scatter(GE_outliers['Change'], GE_outliers['Difference'], c='r')"
   ]
  },
  {
   "cell_type": "code",
   "execution_count": null,
   "metadata": {},
   "outputs": [],
   "source": []
  },
  {
   "cell_type": "code",
   "execution_count": null,
   "metadata": {},
   "outputs": [],
   "source": []
  },
  {
   "cell_type": "code",
   "execution_count": null,
   "metadata": {},
   "outputs": [],
   "source": []
  },
  {
   "cell_type": "code",
   "execution_count": null,
   "metadata": {},
   "outputs": [],
   "source": []
  }
 ],
 "metadata": {
  "kernelspec": {
   "display_name": "Python 3",
   "language": "python",
   "name": "python3"
  },
  "language_info": {
   "codemirror_mode": {
    "name": "ipython",
    "version": 3
   },
   "file_extension": ".py",
   "mimetype": "text/x-python",
   "name": "python",
   "nbconvert_exporter": "python",
   "pygments_lexer": "ipython3",
   "version": "3.7.4"
  }
 },
 "nbformat": 4,
 "nbformat_minor": 2
}
